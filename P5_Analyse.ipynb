{
 "cells": [
  {
   "cell_type": "markdown",
   "metadata": {},
   "source": [
    "\n",
    "# Analyse, projet 5 : réalisez une étude de marché \n",
    "\n",
    "Nous allons réaliser une étude sur nos données dans le but de trouver des pays qui serai profitable \n"
   ]
  },
  {
   "cell_type": "code",
   "execution_count": 1,
   "metadata": {},
   "outputs": [],
   "source": [
    "\n",
    "# Import des librairies\n",
    "import matplotlib.pyplot as plt\n",
    "import scipy.stats as st\n",
    "import seaborn as sns\n",
    "import sklearn as sk\n",
    "import pandas as pd\n",
    "import numpy as np\n",
    "\n",
    "from scipy.cluster.hierarchy import linkage, fcluster, dendrogram\n",
    "from matplotlib.collections import LineCollection\n",
    "from scipy.spatial.distance import pdist\n",
    "from sklearn.cluster import KMeans\n",
    "from sklearn import decomposition, preprocessing\n",
    "\n",
    "#Import des fonctions perso\n",
    "import fonction as f\n",
    "\n",
    "#Chemin du dossier pour les images de graph\n",
    "dossierImg = \"./image_Graph/\"\n"
   ]
  },
  {
   "cell_type": "code",
   "execution_count": 2,
   "metadata": {},
   "outputs": [],
   "source": [
    "\n",
    "#Import du dataframe nettoyé\n",
    "df_final = pd.read_csv(\"Data/set_etudeFinal.csv\")\n"
   ]
  },
  {
   "cell_type": "code",
   "execution_count": 3,
   "metadata": {},
   "outputs": [
    {
     "data": {
      "text/html": [
       "<div>\n",
       "<style scoped>\n",
       "    .dataframe tbody tr th:only-of-type {\n",
       "        vertical-align: middle;\n",
       "    }\n",
       "\n",
       "    .dataframe tbody tr th {\n",
       "        vertical-align: top;\n",
       "    }\n",
       "\n",
       "    .dataframe thead th {\n",
       "        text-align: right;\n",
       "    }\n",
       "</style>\n",
       "<table border=\"1\" class=\"dataframe\">\n",
       "  <thead>\n",
       "    <tr style=\"text-align: right;\">\n",
       "      <th></th>\n",
       "      <th>country_code</th>\n",
       "      <th>country</th>\n",
       "      <th>Disponibilité alimentaire (Kcal/personne/jour)</th>\n",
       "      <th>Disponibilité de protéines en quantité (g/personne/jour)</th>\n",
       "      <th>Proportion proteine animale (%)</th>\n",
       "      <th>populations</th>\n",
       "      <th>Evolution de la population par rapport a l'an passée (en %)</th>\n",
       "      <th>Pib par habitant</th>\n",
       "      <th>Variation du pib avec l'année precedente (en %)</th>\n",
       "    </tr>\n",
       "  </thead>\n",
       "  <tbody>\n",
       "    <tr>\n",
       "      <th>0</th>\n",
       "      <td>1</td>\n",
       "      <td>Arménie</td>\n",
       "      <td>3305.726017</td>\n",
       "      <td>122.980308</td>\n",
       "      <td>35.160</td>\n",
       "      <td>2977</td>\n",
       "      <td>0.269</td>\n",
       "      <td>7727.9</td>\n",
       "      <td>2.886</td>\n",
       "    </tr>\n",
       "    <tr>\n",
       "      <th>1</th>\n",
       "      <td>2</td>\n",
       "      <td>Afghanistan</td>\n",
       "      <td>2260.511826</td>\n",
       "      <td>80.206872</td>\n",
       "      <td>15.223</td>\n",
       "      <td>30552</td>\n",
       "      <td>2.438</td>\n",
       "      <td>1848.7</td>\n",
       "      <td>0.511</td>\n",
       "    </tr>\n",
       "    <tr>\n",
       "      <th>2</th>\n",
       "      <td>3</td>\n",
       "      <td>Albanie</td>\n",
       "      <td>3639.130747</td>\n",
       "      <td>145.509579</td>\n",
       "      <td>40.829</td>\n",
       "      <td>3173</td>\n",
       "      <td>0.348</td>\n",
       "      <td>10492.8</td>\n",
       "      <td>1.186</td>\n",
       "    </tr>\n",
       "    <tr>\n",
       "      <th>3</th>\n",
       "      <td>4</td>\n",
       "      <td>Algérie</td>\n",
       "      <td>3605.321287</td>\n",
       "      <td>122.401767</td>\n",
       "      <td>20.408</td>\n",
       "      <td>39208</td>\n",
       "      <td>1.887</td>\n",
       "      <td>13253.6</td>\n",
       "      <td>0.696</td>\n",
       "    </tr>\n",
       "    <tr>\n",
       "      <th>4</th>\n",
       "      <td>7</td>\n",
       "      <td>Angola</td>\n",
       "      <td>2647.511826</td>\n",
       "      <td>84.093955</td>\n",
       "      <td>21.880</td>\n",
       "      <td>21472</td>\n",
       "      <td>3.127</td>\n",
       "      <td>6188.0</td>\n",
       "      <td>3.135</td>\n",
       "    </tr>\n",
       "  </tbody>\n",
       "</table>\n",
       "</div>"
      ],
      "text/plain": [
       "   country_code      country  Disponibilité alimentaire (Kcal/personne/jour)  \\\n",
       "0             1      Arménie                                     3305.726017   \n",
       "1             2  Afghanistan                                     2260.511826   \n",
       "2             3      Albanie                                     3639.130747   \n",
       "3             4      Algérie                                     3605.321287   \n",
       "4             7       Angola                                     2647.511826   \n",
       "\n",
       "   Disponibilité de protéines en quantité (g/personne/jour)  \\\n",
       "0                                         122.980308          \n",
       "1                                          80.206872          \n",
       "2                                         145.509579          \n",
       "3                                         122.401767          \n",
       "4                                          84.093955          \n",
       "\n",
       "   Proportion proteine animale (%)  populations  \\\n",
       "0                           35.160         2977   \n",
       "1                           15.223        30552   \n",
       "2                           40.829         3173   \n",
       "3                           20.408        39208   \n",
       "4                           21.880        21472   \n",
       "\n",
       "   Evolution de la population par rapport a l'an passée (en %)  \\\n",
       "0                                              0.269             \n",
       "1                                              2.438             \n",
       "2                                              0.348             \n",
       "3                                              1.887             \n",
       "4                                              3.127             \n",
       "\n",
       "   Pib par habitant  Variation du pib avec l'année precedente (en %)  \n",
       "0            7727.9                                            2.886  \n",
       "1            1848.7                                            0.511  \n",
       "2           10492.8                                            1.186  \n",
       "3           13253.6                                            0.696  \n",
       "4            6188.0                                            3.135  "
      ]
     },
     "execution_count": 3,
     "metadata": {},
     "output_type": "execute_result"
    }
   ],
   "source": [
    "#Copy pour toujours avoir l'orignal en cas de besoin\n",
    "df = df_final.copy()\n",
    "df.head()\n"
   ]
  },
  {
   "cell_type": "markdown",
   "metadata": {},
   "source": [
    "\n",
    "Dans un premier temps, nous allons constituer des groupes de pays plutôt similaire. Cela nous permettra de vite choisir les groupes les plus prometteurs et d'avoir une idée du type de pays présent dans ces derniers.\n"
   ]
  },
  {
   "cell_type": "code",
   "execution_count": 4,
   "metadata": {},
   "outputs": [
    {
     "data": {
      "text/html": [
       "<div>\n",
       "<style scoped>\n",
       "    .dataframe tbody tr th:only-of-type {\n",
       "        vertical-align: middle;\n",
       "    }\n",
       "\n",
       "    .dataframe tbody tr th {\n",
       "        vertical-align: top;\n",
       "    }\n",
       "\n",
       "    .dataframe thead th {\n",
       "        text-align: right;\n",
       "    }\n",
       "</style>\n",
       "<table border=\"1\" class=\"dataframe\">\n",
       "  <thead>\n",
       "    <tr style=\"text-align: right;\">\n",
       "      <th></th>\n",
       "      <th>country_code</th>\n",
       "      <th>country</th>\n",
       "      <th>Disponibilité alimentaire (Kcal/personne/jour)</th>\n",
       "      <th>Disponibilité de protéines en quantité (g/personne/jour)</th>\n",
       "      <th>Proportion proteine animale (%)</th>\n",
       "      <th>Evolution de la population par rapport a l'an passée (en %)</th>\n",
       "      <th>Pib par habitant</th>\n",
       "    </tr>\n",
       "  </thead>\n",
       "  <tbody>\n",
       "    <tr>\n",
       "      <th>0</th>\n",
       "      <td>1</td>\n",
       "      <td>Arménie</td>\n",
       "      <td>3305.726017</td>\n",
       "      <td>122.980308</td>\n",
       "      <td>35.160</td>\n",
       "      <td>0.269</td>\n",
       "      <td>7727.9</td>\n",
       "    </tr>\n",
       "    <tr>\n",
       "      <th>1</th>\n",
       "      <td>2</td>\n",
       "      <td>Afghanistan</td>\n",
       "      <td>2260.511826</td>\n",
       "      <td>80.206872</td>\n",
       "      <td>15.223</td>\n",
       "      <td>2.438</td>\n",
       "      <td>1848.7</td>\n",
       "    </tr>\n",
       "    <tr>\n",
       "      <th>2</th>\n",
       "      <td>3</td>\n",
       "      <td>Albanie</td>\n",
       "      <td>3639.130747</td>\n",
       "      <td>145.509579</td>\n",
       "      <td>40.829</td>\n",
       "      <td>0.348</td>\n",
       "      <td>10492.8</td>\n",
       "    </tr>\n",
       "    <tr>\n",
       "      <th>3</th>\n",
       "      <td>4</td>\n",
       "      <td>Algérie</td>\n",
       "      <td>3605.321287</td>\n",
       "      <td>122.401767</td>\n",
       "      <td>20.408</td>\n",
       "      <td>1.887</td>\n",
       "      <td>13253.6</td>\n",
       "    </tr>\n",
       "    <tr>\n",
       "      <th>4</th>\n",
       "      <td>7</td>\n",
       "      <td>Angola</td>\n",
       "      <td>2647.511826</td>\n",
       "      <td>84.093955</td>\n",
       "      <td>21.880</td>\n",
       "      <td>3.127</td>\n",
       "      <td>6188.0</td>\n",
       "    </tr>\n",
       "  </tbody>\n",
       "</table>\n",
       "</div>"
      ],
      "text/plain": [
       "   country_code      country  Disponibilité alimentaire (Kcal/personne/jour)  \\\n",
       "0             1      Arménie                                     3305.726017   \n",
       "1             2  Afghanistan                                     2260.511826   \n",
       "2             3      Albanie                                     3639.130747   \n",
       "3             4      Algérie                                     3605.321287   \n",
       "4             7       Angola                                     2647.511826   \n",
       "\n",
       "   Disponibilité de protéines en quantité (g/personne/jour)  \\\n",
       "0                                         122.980308          \n",
       "1                                          80.206872          \n",
       "2                                         145.509579          \n",
       "3                                         122.401767          \n",
       "4                                          84.093955          \n",
       "\n",
       "   Proportion proteine animale (%)  \\\n",
       "0                           35.160   \n",
       "1                           15.223   \n",
       "2                           40.829   \n",
       "3                           20.408   \n",
       "4                           21.880   \n",
       "\n",
       "   Evolution de la population par rapport a l'an passée (en %)  \\\n",
       "0                                              0.269             \n",
       "1                                              2.438             \n",
       "2                                              0.348             \n",
       "3                                              1.887             \n",
       "4                                              3.127             \n",
       "\n",
       "   Pib par habitant  \n",
       "0            7727.9  \n",
       "1            1848.7  \n",
       "2           10492.8  \n",
       "3           13253.6  \n",
       "4            6188.0  "
      ]
     },
     "execution_count": 4,
     "metadata": {},
     "output_type": "execute_result"
    }
   ],
   "source": [
    "\n",
    "df_etudeCluster = df[[\"country_code\", \"country\",\"Disponibilité alimentaire (Kcal/personne/jour)\",\n",
    "                     \"Disponibilité de protéines en quantité (g/personne/jour)\",\n",
    "                     \"Proportion proteine animale (%)\",\n",
    "                     \"Evolution de la population par rapport a l'an passée (en %)\",\n",
    "                     \"Pib par habitant\"]]\n",
    "df_etudeCluster.head()\n"
   ]
  },
  {
   "cell_type": "markdown",
   "metadata": {},
   "source": [
    "\n",
    "Nous avons sélectionné les données par lesquelles nous classerons nos pays. Dans un premier temps, est ce que la population aurait les moyens de consommer nos produits ? Nous prendrons ici le PIB pour cela. Ensuite est ce que la consommation de viandes est présente dans les moeurs et coutume, est ce que la population mange de la viande. Dans la même direction est ce que les ressources du pays sont suffisantes pour produire sur place. Les proportions de protéine animale couvriront le premier point tandis que la disponibilité alimentaire et disponibilité de protéines nous éclaireront sur le second. Finalement, nous avons pris l'évolution des populations afin d'avoir une idée de la croissance démographique du pays, une forte croissance serai intéressante d'un point de vue plus lointaine avec une augmentation de nos clients potentiels.\n"
   ]
  },
  {
   "cell_type": "code",
   "execution_count": 5,
   "metadata": {},
   "outputs": [],
   "source": [
    "\n",
    "# selection des colonnes à prendre en compte dans l'ACP\n",
    "data_pca = df_etudeCluster[[\"Disponibilité alimentaire (Kcal/personne/jour)\",\n",
    "                     \"Disponibilité de protéines en quantité (g/personne/jour)\",\n",
    "                     \"Proportion proteine animale (%)\",\n",
    "                     \"Evolution de la population par rapport a l'an passée (en %)\",\n",
    "                     \"Pib par habitant\"]]\n",
    "\n",
    "\n",
    "# préparation des données pour l'ACP\n",
    "X = data_pca.values\n",
    "\n",
    "#les intitulés\n",
    "names = df_etudeCluster['country'] \n",
    "features = data_pca.columns\n",
    "\n",
    "# Réduction Centrage\n",
    "std_scale = sk.preprocessing.StandardScaler().fit(X)\n",
    "\n",
    "X_scaled = std_scale.transform(X)\n"
   ]
  },
  {
   "cell_type": "markdown",
   "metadata": {},
   "source": [
    "\n",
    "## ACP de nos données\n",
    "\n",
    "Nous effectuons ici une ACP pour avoir une bonne idée du lien de nos données.\n"
   ]
  },
  {
   "cell_type": "markdown",
   "metadata": {},
   "source": [
    "\n",
    "### Éboulis des valeurs propres\n",
    "\n",
    "Nous réalisons cet éboulis pour savoir combien d'axes nous étudierons dans notre ACP\n"
   ]
  },
  {
   "cell_type": "code",
   "execution_count": 6,
   "metadata": {},
   "outputs": [
    {
     "data": {
      "image/png": "[encoded data removed]",
      "text/plain": [
       "<Figure size 1080x720 with 1 Axes>"
      ]
     },
     "metadata": {
      "needs_background": "light"
     },
     "output_type": "display_data"
    }
   ],
   "source": [
    "\n",
    "# choix du nombre de composantes à calculer\n",
    "n_comp = 5\n",
    "\n",
    "# Calcul des composantes principales\n",
    "pca = sk.decomposition.PCA(n_components=n_comp)\n",
    "\n",
    "pca.fit(X_scaled)\n",
    "\n",
    "\n",
    "plt.figure(figsize=(15,10))\n",
    "plt.xlabel(\"rang de l'axe d'inertie\", fontsize=15)\n",
    "plt.ylabel(\"pourcentage d'inertie\", fontsize=15)\n",
    "plt.title(\"Eboulis des valeurs propres\",fontsize=20)\n",
    "\n",
    "scree = pca.explained_variance_ratio_*100\n",
    "plt.bar(np.arange(len(scree))+1, scree)\n",
    "plt.plot(np.arange(len(scree))+1, scree.cumsum(),c=\"red\",marker='o')\n",
    "\n",
    "plt.savefig(dossierImg + \"graph1.png\")\n",
    "plt.show()\n"
   ]
  },
  {
   "cell_type": "markdown",
   "metadata": {},
   "source": [
    "\n",
    "Ici, on voit que les deux premiers axes représentent plus de 80 % d'inertie. On ne prendra que le premier plan. (les axes 1 et 2)\n"
   ]
  },
  {
   "cell_type": "code",
   "execution_count": 37,
   "metadata": {},
   "outputs": [
    {
     "data": {
      "image/png": "[encoded data removed]",
      "text/plain": [
       "<Figure size 720x720 with 1 Axes>"
      ]
     },
     "metadata": {
      "needs_background": "light"
     },
     "output_type": "display_data"
    }
   ],
   "source": [
    "\n",
    "# préparation des données pour l'ACP\n",
    "X = data_pca.values\n",
    "\n",
    "#les intitulés\n",
    "names = df.index \n",
    "features = data_pca.columns\n",
    "\n",
    "pca = sk.decomposition.PCA(n_components=n_comp)\n",
    "pca.fit(X_scaled)\n",
    "pcs = pca.components_\n",
    "\n",
    "#Afichage du plan\n",
    "f.display_circles(pcs, n_comp, pca, [(0,1)], labels = np.array(features))\n"
   ]
  },
  {
   "cell_type": "code",
   "execution_count": 9,
   "metadata": {},
   "outputs": [],
   "source": [
    "# Contribution a l'inertie des axes pour chaque variable.\n",
    "f1 = pcs[0]\n",
    "f2 = pcs[1]\n",
    "f3 = pcs[2]"
   ]
  },
  {
   "cell_type": "code",
   "execution_count": 31,
   "metadata": {},
   "outputs": [
    {
     "data": {
      "text/html": [
       "<div>\n",
       "<style scoped>\n",
       "    .dataframe tbody tr th:only-of-type {\n",
       "        vertical-align: middle;\n",
       "    }\n",
       "\n",
       "    .dataframe tbody tr th {\n",
       "        vertical-align: top;\n",
       "    }\n",
       "\n",
       "    .dataframe thead th {\n",
       "        text-align: right;\n",
       "    }\n",
       "</style>\n",
       "<table border=\"1\" class=\"dataframe\">\n",
       "  <thead>\n",
       "    <tr style=\"text-align: right;\">\n",
       "      <th></th>\n",
       "      <th>axes</th>\n",
       "      <th>Disponibilité alimentaire (Kcal/personne/jour)</th>\n",
       "      <th>Disponibilité de protéines en quantité (g/personne/jour)</th>\n",
       "      <th>Proportion proteine animale (%)</th>\n",
       "      <th>Evolution de la population par rapport a l'an passée (en %)</th>\n",
       "      <th>Pib par habitant</th>\n",
       "    </tr>\n",
       "  </thead>\n",
       "  <tbody>\n",
       "    <tr>\n",
       "      <th>0</th>\n",
       "      <td>f1</td>\n",
       "      <td>0.49</td>\n",
       "      <td>0.49</td>\n",
       "      <td>0.49</td>\n",
       "      <td>-0.33</td>\n",
       "      <td>0.42</td>\n",
       "    </tr>\n",
       "    <tr>\n",
       "      <th>1</th>\n",
       "      <td>f2</td>\n",
       "      <td>0.05</td>\n",
       "      <td>0.12</td>\n",
       "      <td>-0.02</td>\n",
       "      <td>0.86</td>\n",
       "      <td>0.49</td>\n",
       "    </tr>\n",
       "    <tr>\n",
       "      <th>2</th>\n",
       "      <td>f3</td>\n",
       "      <td>-0.50</td>\n",
       "      <td>-0.48</td>\n",
       "      <td>0.28</td>\n",
       "      <td>-0.25</td>\n",
       "      <td>0.62</td>\n",
       "    </tr>\n",
       "  </tbody>\n",
       "</table>\n",
       "</div>"
      ],
      "text/plain": [
       "  axes  Disponibilité alimentaire (Kcal/personne/jour)  \\\n",
       "0   f1                                            0.49   \n",
       "1   f2                                            0.05   \n",
       "2   f3                                           -0.50   \n",
       "\n",
       "   Disponibilité de protéines en quantité (g/personne/jour)  \\\n",
       "0                                               0.49          \n",
       "1                                               0.12          \n",
       "2                                              -0.48          \n",
       "\n",
       "   Proportion proteine animale (%)  \\\n",
       "0                             0.49   \n",
       "1                            -0.02   \n",
       "2                             0.28   \n",
       "\n",
       "   Evolution de la population par rapport a l'an passée (en %)  \\\n",
       "0                                              -0.33             \n",
       "1                                               0.86             \n",
       "2                                              -0.25             \n",
       "\n",
       "   Pib par habitant  \n",
       "0              0.42  \n",
       "1              0.49  \n",
       "2              0.62  "
      ]
     },
     "execution_count": 31,
     "metadata": {},
     "output_type": "execute_result"
    }
   ],
   "source": [
    "\n",
    "df_contribution = pd.DataFrame({\"Disponibilité alimentaire (Kcal/personne/jour)\" : [f1[0],f2[0],f3[0]],\n",
    "                     \"Disponibilité de protéines en quantité (g/personne/jour)\": [f1[1],f2[1],f3[1]],\n",
    "                     \"Proportion proteine animale (%)\": [f1[2],f2[2],f3[2]],\n",
    "                     \"Evolution de la population par rapport a l'an passée (en %)\": [f1[3],f2[3],f3[3]],\n",
    "                     \"Pib par habitant\": [f1[4],f2[4],f3[4]]})\n",
    "df_contribution = df_contribution.reset_index()\n",
    "df_contribution = df_contribution.rename({\"index\":'axes'}, axis=1)\n",
    "df_contribution['axes'] = ['f1','f2',\"f3\"]\n",
    "df_contribution.round(2)\n"
   ]
  },
  {
   "cell_type": "markdown",
   "metadata": {},
   "source": [
    "\n",
    "On peut voire que certaine variables contribue plus a l'inertie de certain axes que d'autre.\n"
   ]
  },
  {
   "cell_type": "markdown",
   "metadata": {},
   "source": [
    "\n",
    "### Corrélation entre les variables.\n",
    "\n",
    "Penchons-nous un peut plus sur la corrélation des différentes variables.\n"
   ]
  },
  {
   "cell_type": "code",
   "execution_count": 36,
   "metadata": {},
   "outputs": [
    {
     "data": {
      "image/png": "[encoded data removed]",
      "text/plain": [
       "<Figure size 1080x720 with 2 Axes>"
      ]
     },
     "metadata": {
      "needs_background": "light"
     },
     "output_type": "display_data"
    }
   ],
   "source": [
    "\n",
    "plt.figure(figsize=(15,10))\n",
    "plt.title(\"Corrélation entre les variables\")\n",
    "\n",
    "corr = df_etudeCluster.drop(columns='country_code').corr()\n",
    "\n",
    "mask = np.zeros_like(corr)\n",
    "mask[np.triu_indices_from(mask)] = True\n",
    "\n",
    "with sns.axes_style(\"white\"):\n",
    "    ax = sns.heatmap(corr, mask=mask, vmin = 0,vmax=1, square=True,annot=True)\n",
    "\n",
    "plt.savefig(dossierImg + \"graph2.png\")\n",
    "plt.show()\n"
   ]
  },
  {
   "cell_type": "markdown",
   "metadata": {},
   "source": [
    "### Projection des individus sur le plan\n",
    "\n"
   ]
  },
  {
   "cell_type": "code",
   "execution_count": 38,
   "metadata": {},
   "outputs": [
    {
     "data": {
      "image/png": "[encoded data removed]",
      "text/plain": [
       "<Figure size 1080x1080 with 1 Axes>"
      ]
     },
     "metadata": {
      "needs_background": "light"
     },
     "output_type": "display_data"
    }
   ],
   "source": [
    "# Projection des individus\n",
    "\n",
    "X_projected = pca.transform(X_scaled)\n",
    "\n",
    "f.display_factorial_planes(X_projected, n_comp, pca, [(0,1)])\n"
   ]
  },
  {
   "cell_type": "markdown",
   "metadata": {},
   "source": [
    "\n",
    "Déja la disposition des pays sur ce plan nous apprend certaine choses.\n",
    "-----------------------------------------------------------------\n",
    "Explicaiton à continuer\n"
   ]
  },
  {
   "cell_type": "markdown",
   "metadata": {},
   "source": [
    "#### Clustering\n",
    "\n",
    "Nous allons regrouper les individus similaire entre eux.\n",
    "\n",
    "\n",
    "Pour savoir combier de groupe faire nous allons faire un dendogemme."
   ]
  },
  {
   "cell_type": "code",
   "execution_count": 13,
   "metadata": {},
   "outputs": [
    {
     "data": {
      "image/png": "[encoded data removed]",
      "text/plain": [
       "<Figure size 1440x2160 with 1 Axes>"
      ]
     },
     "metadata": {
      "needs_background": "light"
     },
     "output_type": "display_data"
    }
   ],
   "source": [
    "\n",
    "Z = linkage(X_scaled, 'ward', optimal_ordering=True)\n",
    "\n",
    "\n",
    "# Affichage du dendrogramme\n",
    "\n",
    "slope = 0\n",
    "intercept = 6.5\n",
    "\n",
    "plt.figure(figsize=(20,30))\n",
    "\n",
    "\n",
    "dendrogram(\n",
    "    Z,\n",
    "    leaf_font_size=1,\n",
    "    color_threshold=intercept\n",
    "    )\n",
    "\n",
    "x_vals = np.array(plt.gca().get_xlim())\n",
    "y_vals = intercept + slope * x_vals\n",
    "plt.plot(x_vals, y_vals,'r', '--')\n",
    "\n",
    "\n",
    "plt.title('Hierarchical Clustering Dendrogram')\n",
    "plt.ylabel('distance', fontsize=15)\n",
    "plt.savefig(dossierImg + \"graph3.png\")\n",
    "\n",
    "plt.show()"
   ]
  },
  {
   "cell_type": "markdown",
   "metadata": {},
   "source": [
    "Dendrograme des pays"
   ]
  },
  {
   "cell_type": "markdown",
   "metadata": {},
   "source": [
    "##### Clusters des pays\n",
    "\n",
    "Nous allons recuperer le clusters de chaque pays"
   ]
  },
  {
   "cell_type": "code",
   "execution_count": 14,
   "metadata": {},
   "outputs": [
    {
     "data": {
      "text/plain": [
       "<Figure size 1080x720 with 0 Axes>"
      ]
     },
     "metadata": {},
     "output_type": "display_data"
    },
    {
     "data": {
      "image/png": "[encoded data removed]",
      "text/plain": [
       "<Figure size 1080x720 with 1 Axes>"
      ]
     },
     "metadata": {
      "needs_background": "light"
     },
     "output_type": "display_data"
    },
    {
     "data": {
      "text/html": [
       "<div>\n",
       "<style scoped>\n",
       "    .dataframe tbody tr th:only-of-type {\n",
       "        vertical-align: middle;\n",
       "    }\n",
       "\n",
       "    .dataframe tbody tr th {\n",
       "        vertical-align: top;\n",
       "    }\n",
       "\n",
       "    .dataframe thead th {\n",
       "        text-align: right;\n",
       "    }\n",
       "</style>\n",
       "<table border=\"1\" class=\"dataframe\">\n",
       "  <thead>\n",
       "    <tr style=\"text-align: right;\">\n",
       "      <th></th>\n",
       "      <th>country_code</th>\n",
       "      <th>country</th>\n",
       "      <th>Clusters</th>\n",
       "    </tr>\n",
       "  </thead>\n",
       "  <tbody>\n",
       "    <tr>\n",
       "      <th>0</th>\n",
       "      <td>1</td>\n",
       "      <td>Arménie</td>\n",
       "      <td>2</td>\n",
       "    </tr>\n",
       "    <tr>\n",
       "      <th>1</th>\n",
       "      <td>2</td>\n",
       "      <td>Afghanistan</td>\n",
       "      <td>5</td>\n",
       "    </tr>\n",
       "    <tr>\n",
       "      <th>2</th>\n",
       "      <td>3</td>\n",
       "      <td>Albanie</td>\n",
       "      <td>0</td>\n",
       "    </tr>\n",
       "    <tr>\n",
       "      <th>3</th>\n",
       "      <td>4</td>\n",
       "      <td>Algérie</td>\n",
       "      <td>3</td>\n",
       "    </tr>\n",
       "    <tr>\n",
       "      <th>4</th>\n",
       "      <td>7</td>\n",
       "      <td>Angola</td>\n",
       "      <td>5</td>\n",
       "    </tr>\n",
       "    <tr>\n",
       "      <th>5</th>\n",
       "      <td>8</td>\n",
       "      <td>Antigua-et-Barbuda</td>\n",
       "      <td>2</td>\n",
       "    </tr>\n",
       "    <tr>\n",
       "      <th>6</th>\n",
       "      <td>9</td>\n",
       "      <td>Argentine</td>\n",
       "      <td>0</td>\n",
       "    </tr>\n",
       "    <tr>\n",
       "      <th>7</th>\n",
       "      <td>10</td>\n",
       "      <td>Australie</td>\n",
       "      <td>0</td>\n",
       "    </tr>\n",
       "    <tr>\n",
       "      <th>8</th>\n",
       "      <td>11</td>\n",
       "      <td>Autriche</td>\n",
       "      <td>0</td>\n",
       "    </tr>\n",
       "    <tr>\n",
       "      <th>9</th>\n",
       "      <td>12</td>\n",
       "      <td>Bahamas</td>\n",
       "      <td>2</td>\n",
       "    </tr>\n",
       "  </tbody>\n",
       "</table>\n",
       "</div>"
      ],
      "text/plain": [
       "   country_code             country  Clusters\n",
       "0             1             Arménie         2\n",
       "1             2         Afghanistan         5\n",
       "2             3             Albanie         0\n",
       "3             4             Algérie         3\n",
       "4             7              Angola         5\n",
       "5             8  Antigua-et-Barbuda         2\n",
       "6             9           Argentine         0\n",
       "7            10           Australie         0\n",
       "8            11            Autriche         0\n",
       "9            12             Bahamas         2"
      ]
     },
     "execution_count": 14,
     "metadata": {},
     "output_type": "execute_result"
    }
   ],
   "source": [
    "#Nombre de clusters determiner plus haut\n",
    "n_clust = 7\n",
    "\n",
    "# Affichage des des individus et des centres de clusters sur le plan factoriel\n",
    "plt.figure(figsize=(15,10))\n",
    "# X_scaled = preprocessing.StandardScaler().fit_transform(X)\n",
    "\n",
    "kmCentroids = KMeans(n_clusters=n_clust, random_state=3)\n",
    "kmCentroids.fit(X)\n",
    "centroidsR = kmCentroids.cluster_centers_\n",
    "\n",
    "Y = X_scaled\n",
    "km = KMeans(n_clusters=n_clust, random_state=3)\n",
    "km.fit(Y)\n",
    "\n",
    "\n",
    "clusters = km.labels_\n",
    "\n",
    "\n",
    "pca = decomposition.PCA(n_components=3).fit(Y)\n",
    "Y_projected = pca.transform(Y)\n",
    "\n",
    "centroids = km.cluster_centers_\n",
    "centroids_projected = pca.transform(centroids)\n",
    "plt.figure(figsize=(15,10))\n",
    "plt.scatter(centroids_projected[:,0],centroids_projected[:,1], marker=\"x\",color='red')\n",
    "plt.scatter(Y_projected[:, 0], Y_projected[:, 1], c=clusters.astype(np.float),cmap='Accent', alpha=.8)\n",
    "plt.title(\"Projection des {} centres et {} individus sur le 1e plan factoriel\".format(len(centroids),Y_projected.shape[0]))\n",
    "plt.savefig(dossierImg + \"graph4.png\")\n",
    "\n",
    "plt.show()\n",
    "\n",
    "\n",
    "# Recuperation du clusters des pays\n",
    "\n",
    "clusters = km.labels_\n",
    "df_clusters = pd.DataFrame(index=[df_final.country_code,df_final.country])\n",
    "df_clusters['Clusters'] = clusters\n",
    "df_clusters = df_clusters.reset_index()\n",
    "df_clusters.head(10)\n"
   ]
  },
  {
   "cell_type": "code",
   "execution_count": 15,
   "metadata": {},
   "outputs": [],
   "source": [
    "\n",
    "df_final = df_final.merge(df_clusters, right_on=['country_code','country'], left_on=['country_code','country'])\n"
   ]
  },
  {
   "cell_type": "markdown",
   "metadata": {},
   "source": [
    "\n",
    "Nous allons egalement recuperer la liste des centroïdes des clusters\n"
   ]
  },
  {
   "cell_type": "code",
   "execution_count": 16,
   "metadata": {},
   "outputs": [],
   "source": [
    "\n",
    "df_centroids = pd.DataFrame(centroidsR)\n",
    "df_centroids.to_csv('Data/set_centroids.csv',index=False)\n"
   ]
  },
  {
   "cell_type": "markdown",
   "metadata": {},
   "source": [
    "Etude des clusters\n",
    "\n",
    "Nous allons etudiers les clusters pour en selectionner un.\n"
   ]
  },
  {
   "cell_type": "code",
   "execution_count": 17,
   "metadata": {},
   "outputs": [
    {
     "data": {
      "text/html": [
       "<div>\n",
       "<style scoped>\n",
       "    .dataframe tbody tr th:only-of-type {\n",
       "        vertical-align: middle;\n",
       "    }\n",
       "\n",
       "    .dataframe tbody tr th {\n",
       "        vertical-align: top;\n",
       "    }\n",
       "\n",
       "    .dataframe thead th {\n",
       "        text-align: right;\n",
       "    }\n",
       "</style>\n",
       "<table border=\"1\" class=\"dataframe\">\n",
       "  <thead>\n",
       "    <tr style=\"text-align: right;\">\n",
       "      <th></th>\n",
       "      <th>Clusters</th>\n",
       "      <th>Nombre pays clusters</th>\n",
       "    </tr>\n",
       "  </thead>\n",
       "  <tbody>\n",
       "    <tr>\n",
       "      <th>0</th>\n",
       "      <td>0</td>\n",
       "      <td>41</td>\n",
       "    </tr>\n",
       "    <tr>\n",
       "      <th>1</th>\n",
       "      <td>1</td>\n",
       "      <td>23</td>\n",
       "    </tr>\n",
       "    <tr>\n",
       "      <th>2</th>\n",
       "      <td>2</td>\n",
       "      <td>42</td>\n",
       "    </tr>\n",
       "    <tr>\n",
       "      <th>3</th>\n",
       "      <td>3</td>\n",
       "      <td>16</td>\n",
       "    </tr>\n",
       "    <tr>\n",
       "      <th>4</th>\n",
       "      <td>4</td>\n",
       "      <td>6</td>\n",
       "    </tr>\n",
       "    <tr>\n",
       "      <th>5</th>\n",
       "      <td>5</td>\n",
       "      <td>45</td>\n",
       "    </tr>\n",
       "    <tr>\n",
       "      <th>6</th>\n",
       "      <td>6</td>\n",
       "      <td>1</td>\n",
       "    </tr>\n",
       "  </tbody>\n",
       "</table>\n",
       "</div>"
      ],
      "text/plain": [
       "   Clusters  Nombre pays clusters\n",
       "0         0                    41\n",
       "1         1                    23\n",
       "2         2                    42\n",
       "3         3                    16\n",
       "4         4                     6\n",
       "5         5                    45\n",
       "6         6                     1"
      ]
     },
     "execution_count": 17,
     "metadata": {},
     "output_type": "execute_result"
    }
   ],
   "source": [
    "\n",
    "df_nbPaysCluster = pd.pivot_table(df_final, index=\"Clusters\", aggfunc=\"count\")\n",
    "df_nbPaysCluster = df_nbPaysCluster.reset_index()\n",
    "df_nbPaysCluster = df_nbPaysCluster.drop(columns=[\"Disponibilité alimentaire (Kcal/personne/jour)\",\n",
    "                          \"Disponibilité de protéines en quantité (g/personne/jour)\",\n",
    "                          \"Evolution de la population par rapport a l'an passée (en %)\",\n",
    "                          \"Pib par habitant\",\n",
    "                          \"Proportion proteine animale (%)\",\n",
    "                          \"Variation du pib avec l'année precedente (en %)\",\n",
    "                          \"country\",\n",
    "                          \"populations\"])\n",
    "df_nbPaysCluster = df_nbPaysCluster.rename({\"country_code\":\"Nombre pays clusters\"},axis=1)\n",
    "df_nbPaysCluster\n"
   ]
  },
  {
   "cell_type": "markdown",
   "metadata": {},
   "source": [
    "\n",
    "Effectuons un premiers tri par rapport au pib par habitant.\n"
   ]
  },
  {
   "cell_type": "code",
   "execution_count": 18,
   "metadata": {},
   "outputs": [],
   "source": [
    "\n",
    "df_selectionClusters = pd.pivot_table(df_final,index='Clusters',aggfunc='mean')\n",
    "df_selectionClusters = df_selectionClusters.round(3)\n",
    "df_selectionClusters = df_selectionClusters.drop(columns='country_code')\n"
   ]
  },
  {
   "cell_type": "code",
   "execution_count": 19,
   "metadata": {},
   "outputs": [
    {
     "data": {
      "text/html": [
       "<div>\n",
       "<style scoped>\n",
       "    .dataframe tbody tr th:only-of-type {\n",
       "        vertical-align: middle;\n",
       "    }\n",
       "\n",
       "    .dataframe tbody tr th {\n",
       "        vertical-align: top;\n",
       "    }\n",
       "\n",
       "    .dataframe thead th {\n",
       "        text-align: right;\n",
       "    }\n",
       "</style>\n",
       "<table border=\"1\" class=\"dataframe\">\n",
       "  <thead>\n",
       "    <tr style=\"text-align: right;\">\n",
       "      <th></th>\n",
       "      <th>Disponibilité alimentaire (Kcal/personne/jour)</th>\n",
       "      <th>Disponibilité de protéines en quantité (g/personne/jour)</th>\n",
       "      <th>Evolution de la population par rapport a l'an passée (en %)</th>\n",
       "      <th>Pib par habitant</th>\n",
       "      <th>Proportion proteine animale (%)</th>\n",
       "      <th>Variation du pib avec l'année precedente (en %)</th>\n",
       "      <th>populations</th>\n",
       "    </tr>\n",
       "    <tr>\n",
       "      <th>Clusters</th>\n",
       "      <th></th>\n",
       "      <th></th>\n",
       "      <th></th>\n",
       "      <th></th>\n",
       "      <th></th>\n",
       "      <th></th>\n",
       "      <th></th>\n",
       "    </tr>\n",
       "  </thead>\n",
       "  <tbody>\n",
       "    <tr>\n",
       "      <th>4</th>\n",
       "      <td>3658.776</td>\n",
       "      <td>134.457</td>\n",
       "      <td>1.730</td>\n",
       "      <td>83952.467</td>\n",
       "      <td>43.344</td>\n",
       "      <td>0.908</td>\n",
       "      <td>3212.000</td>\n",
       "    </tr>\n",
       "    <tr>\n",
       "      <th>6</th>\n",
       "      <td>3556.428</td>\n",
       "      <td>118.692</td>\n",
       "      <td>9.596</td>\n",
       "      <td>41924.800</td>\n",
       "      <td>38.503</td>\n",
       "      <td>-2.569</td>\n",
       "      <td>3632.000</td>\n",
       "    </tr>\n",
       "    <tr>\n",
       "      <th>0</th>\n",
       "      <td>3705.314</td>\n",
       "      <td>131.810</td>\n",
       "      <td>0.491</td>\n",
       "      <td>33322.512</td>\n",
       "      <td>47.305</td>\n",
       "      <td>1.159</td>\n",
       "      <td>30606.415</td>\n",
       "    </tr>\n",
       "    <tr>\n",
       "      <th>2</th>\n",
       "      <td>3185.174</td>\n",
       "      <td>113.401</td>\n",
       "      <td>0.477</td>\n",
       "      <td>15820.365</td>\n",
       "      <td>38.355</td>\n",
       "      <td>2.359</td>\n",
       "      <td>49974.524</td>\n",
       "    </tr>\n",
       "    <tr>\n",
       "      <th>1</th>\n",
       "      <td>2850.800</td>\n",
       "      <td>95.798</td>\n",
       "      <td>1.298</td>\n",
       "      <td>8911.913</td>\n",
       "      <td>29.596</td>\n",
       "      <td>3.789</td>\n",
       "      <td>43647.522</td>\n",
       "    </tr>\n",
       "    <tr>\n",
       "      <th>3</th>\n",
       "      <td>3295.332</td>\n",
       "      <td>117.478</td>\n",
       "      <td>2.225</td>\n",
       "      <td>8652.969</td>\n",
       "      <td>24.433</td>\n",
       "      <td>1.291</td>\n",
       "      <td>21124.188</td>\n",
       "    </tr>\n",
       "    <tr>\n",
       "      <th>5</th>\n",
       "      <td>2517.290</td>\n",
       "      <td>86.697</td>\n",
       "      <td>2.355</td>\n",
       "      <td>4130.980</td>\n",
       "      <td>15.528</td>\n",
       "      <td>1.942</td>\n",
       "      <td>50638.867</td>\n",
       "    </tr>\n",
       "  </tbody>\n",
       "</table>\n",
       "</div>"
      ],
      "text/plain": [
       "          Disponibilité alimentaire (Kcal/personne/jour)  \\\n",
       "Clusters                                                   \n",
       "4                                               3658.776   \n",
       "6                                               3556.428   \n",
       "0                                               3705.314   \n",
       "2                                               3185.174   \n",
       "1                                               2850.800   \n",
       "3                                               3295.332   \n",
       "5                                               2517.290   \n",
       "\n",
       "          Disponibilité de protéines en quantité (g/personne/jour)  \\\n",
       "Clusters                                                             \n",
       "4                                                   134.457          \n",
       "6                                                   118.692          \n",
       "0                                                   131.810          \n",
       "2                                                   113.401          \n",
       "1                                                    95.798          \n",
       "3                                                   117.478          \n",
       "5                                                    86.697          \n",
       "\n",
       "          Evolution de la population par rapport a l'an passée (en %)  \\\n",
       "Clusters                                                                \n",
       "4                                                     1.730             \n",
       "6                                                     9.596             \n",
       "0                                                     0.491             \n",
       "2                                                     0.477             \n",
       "1                                                     1.298             \n",
       "3                                                     2.225             \n",
       "5                                                     2.355             \n",
       "\n",
       "          Pib par habitant  Proportion proteine animale (%)  \\\n",
       "Clusters                                                      \n",
       "4                83952.467                           43.344   \n",
       "6                41924.800                           38.503   \n",
       "0                33322.512                           47.305   \n",
       "2                15820.365                           38.355   \n",
       "1                 8911.913                           29.596   \n",
       "3                 8652.969                           24.433   \n",
       "5                 4130.980                           15.528   \n",
       "\n",
       "          Variation du pib avec l'année precedente (en %)  populations  \n",
       "Clusters                                                                \n",
       "4                                                   0.908     3212.000  \n",
       "6                                                  -2.569     3632.000  \n",
       "0                                                   1.159    30606.415  \n",
       "2                                                   2.359    49974.524  \n",
       "1                                                   3.789    43647.522  \n",
       "3                                                   1.291    21124.188  \n",
       "5                                                   1.942    50638.867  "
      ]
     },
     "execution_count": 19,
     "metadata": {},
     "output_type": "execute_result"
    }
   ],
   "source": [
    "\n",
    "df_selectionClusters.sort_values(by ='Pib par habitant', ascending=False)\n"
   ]
  },
  {
   "cell_type": "markdown",
   "metadata": {},
   "source": [
    "\n",
    "Explication des choix\n"
   ]
  },
  {
   "cell_type": "markdown",
   "metadata": {},
   "source": [
    "\n",
    "Deuxieme passage sur le groupe 1\n"
   ]
  },
  {
   "cell_type": "markdown",
   "metadata": {},
   "source": [
    "\n",
    "Pour choisir les pays avec plus de precision, nous allons rajouter quelque variable.\n",
    "Nous allons avoire une vision plus fine des pays.\n",
    "\n",
    "Mais nous devont garder en tete que ces pays doivent avoir des chiffres important dans nos variable pricipale, et nous prendrons cela en compte lors de notre choix\n"
   ]
  },
  {
   "cell_type": "code",
   "execution_count": 20,
   "metadata": {},
   "outputs": [],
   "source": [
    "\n",
    "df_retenu = df_final[df_final.Clusters == 1].round(3)\n",
    "df_retenu = df_retenu.reset_index()\n",
    "df_retenu = df_retenu.drop('index',axis=1)\n"
   ]
  },
  {
   "cell_type": "code",
   "execution_count": 21,
   "metadata": {},
   "outputs": [
    {
     "data": {
      "text/html": [
       "<div>\n",
       "<style scoped>\n",
       "    .dataframe tbody tr th:only-of-type {\n",
       "        vertical-align: middle;\n",
       "    }\n",
       "\n",
       "    .dataframe tbody tr th {\n",
       "        vertical-align: top;\n",
       "    }\n",
       "\n",
       "    .dataframe thead th {\n",
       "        text-align: right;\n",
       "    }\n",
       "</style>\n",
       "<table border=\"1\" class=\"dataframe\">\n",
       "  <thead>\n",
       "    <tr style=\"text-align: right;\">\n",
       "      <th></th>\n",
       "      <th>country_code</th>\n",
       "      <th>country</th>\n",
       "      <th>Disponibilité alimentaire (Kcal/personne/jour)</th>\n",
       "      <th>Disponibilité de protéines en quantité (g/personne/jour)</th>\n",
       "      <th>Proportion proteine animale (%)</th>\n",
       "      <th>populations</th>\n",
       "      <th>Evolution de la population par rapport a l'an passée (en %)</th>\n",
       "      <th>Pib par habitant</th>\n",
       "      <th>Variation du pib avec l'année precedente (en %)</th>\n",
       "      <th>Clusters</th>\n",
       "    </tr>\n",
       "  </thead>\n",
       "  <tbody>\n",
       "    <tr>\n",
       "      <th>12</th>\n",
       "      <td>101</td>\n",
       "      <td>Indonésie</td>\n",
       "      <td>3123.024</td>\n",
       "      <td>90.243</td>\n",
       "      <td>19.636</td>\n",
       "      <td>249866</td>\n",
       "      <td>1.216</td>\n",
       "      <td>9643.3</td>\n",
       "      <td>4.238</td>\n",
       "      <td>1</td>\n",
       "    </tr>\n",
       "    <tr>\n",
       "      <th>14</th>\n",
       "      <td>165</td>\n",
       "      <td>Pakistan</td>\n",
       "      <td>2680.917</td>\n",
       "      <td>83.739</td>\n",
       "      <td>32.565</td>\n",
       "      <td>182143</td>\n",
       "      <td>1.665</td>\n",
       "      <td>4464.1</td>\n",
       "      <td>2.212</td>\n",
       "      <td>1</td>\n",
       "    </tr>\n",
       "    <tr>\n",
       "      <th>17</th>\n",
       "      <td>171</td>\n",
       "      <td>Philippines</td>\n",
       "      <td>2810.917</td>\n",
       "      <td>84.295</td>\n",
       "      <td>29.480</td>\n",
       "      <td>98394</td>\n",
       "      <td>1.744</td>\n",
       "      <td>6306.7</td>\n",
       "      <td>5.308</td>\n",
       "      <td>1</td>\n",
       "    </tr>\n",
       "    <tr>\n",
       "      <th>21</th>\n",
       "      <td>237</td>\n",
       "      <td>Viet Nam</td>\n",
       "      <td>3021.619</td>\n",
       "      <td>107.215</td>\n",
       "      <td>28.961</td>\n",
       "      <td>91680</td>\n",
       "      <td>0.974</td>\n",
       "      <td>5024.4</td>\n",
       "      <td>4.217</td>\n",
       "      <td>1</td>\n",
       "    </tr>\n",
       "    <tr>\n",
       "      <th>19</th>\n",
       "      <td>216</td>\n",
       "      <td>Thaïlande</td>\n",
       "      <td>3062.619</td>\n",
       "      <td>87.674</td>\n",
       "      <td>28.366</td>\n",
       "      <td>67011</td>\n",
       "      <td>0.338</td>\n",
       "      <td>14771.5</td>\n",
       "      <td>2.237</td>\n",
       "      <td>1</td>\n",
       "    </tr>\n",
       "    <tr>\n",
       "      <th>2</th>\n",
       "      <td>28</td>\n",
       "      <td>Myanmar</td>\n",
       "      <td>2816.917</td>\n",
       "      <td>111.872</td>\n",
       "      <td>30.150</td>\n",
       "      <td>53259</td>\n",
       "      <td>0.875</td>\n",
       "      <td>4457.9</td>\n",
       "      <td>7.453</td>\n",
       "      <td>1</td>\n",
       "    </tr>\n",
       "    <tr>\n",
       "      <th>5</th>\n",
       "      <td>44</td>\n",
       "      <td>Colombie</td>\n",
       "      <td>3181.726</td>\n",
       "      <td>99.669</td>\n",
       "      <td>33.591</td>\n",
       "      <td>48321</td>\n",
       "      <td>1.293</td>\n",
       "      <td>12296.3</td>\n",
       "      <td>3.852</td>\n",
       "      <td>1</td>\n",
       "    </tr>\n",
       "    <tr>\n",
       "      <th>22</th>\n",
       "      <td>276</td>\n",
       "      <td>Soudan</td>\n",
       "      <td>2647.321</td>\n",
       "      <td>106.049</td>\n",
       "      <td>30.842</td>\n",
       "      <td>37964</td>\n",
       "      <td>2.067</td>\n",
       "      <td>4177.3</td>\n",
       "      <td>1.957</td>\n",
       "      <td>1</td>\n",
       "    </tr>\n",
       "    <tr>\n",
       "      <th>20</th>\n",
       "      <td>236</td>\n",
       "      <td>Venezuela (République bolivarienne du)</td>\n",
       "      <td>2910.619</td>\n",
       "      <td>96.126</td>\n",
       "      <td>39.667</td>\n",
       "      <td>30405</td>\n",
       "      <td>1.502</td>\n",
       "      <td>17665.2</td>\n",
       "      <td>-0.077</td>\n",
       "      <td>1</td>\n",
       "    </tr>\n",
       "    <tr>\n",
       "      <th>16</th>\n",
       "      <td>170</td>\n",
       "      <td>Pérou</td>\n",
       "      <td>2939.917</td>\n",
       "      <td>101.744</td>\n",
       "      <td>26.577</td>\n",
       "      <td>30376</td>\n",
       "      <td>1.294</td>\n",
       "      <td>11430.3</td>\n",
       "      <td>4.444</td>\n",
       "      <td>1</td>\n",
       "    </tr>\n",
       "    <tr>\n",
       "      <th>9</th>\n",
       "      <td>81</td>\n",
       "      <td>Ghana</td>\n",
       "      <td>3152.809</td>\n",
       "      <td>88.955</td>\n",
       "      <td>19.358</td>\n",
       "      <td>25905</td>\n",
       "      <td>2.125</td>\n",
       "      <td>3807.3</td>\n",
       "      <td>4.815</td>\n",
       "      <td>1</td>\n",
       "    </tr>\n",
       "    <tr>\n",
       "      <th>4</th>\n",
       "      <td>38</td>\n",
       "      <td>Sri Lanka</td>\n",
       "      <td>2814.619</td>\n",
       "      <td>90.132</td>\n",
       "      <td>20.041</td>\n",
       "      <td>21273</td>\n",
       "      <td>0.829</td>\n",
       "      <td>10238.7</td>\n",
       "      <td>2.592</td>\n",
       "      <td>1</td>\n",
       "    </tr>\n",
       "    <tr>\n",
       "      <th>7</th>\n",
       "      <td>58</td>\n",
       "      <td>Équateur</td>\n",
       "      <td>2658.321</td>\n",
       "      <td>89.343</td>\n",
       "      <td>40.854</td>\n",
       "      <td>15738</td>\n",
       "      <td>1.588</td>\n",
       "      <td>10665.5</td>\n",
       "      <td>3.326</td>\n",
       "      <td>1</td>\n",
       "    </tr>\n",
       "    <tr>\n",
       "      <th>0</th>\n",
       "      <td>19</td>\n",
       "      <td>Bolivie (État plurinational de)</td>\n",
       "      <td>2562.321</td>\n",
       "      <td>96.442</td>\n",
       "      <td>30.858</td>\n",
       "      <td>10671</td>\n",
       "      <td>1.667</td>\n",
       "      <td>6090.7</td>\n",
       "      <td>5.141</td>\n",
       "      <td>1</td>\n",
       "    </tr>\n",
       "    <tr>\n",
       "      <th>6</th>\n",
       "      <td>56</td>\n",
       "      <td>République dominicaine</td>\n",
       "      <td>2853.917</td>\n",
       "      <td>82.545</td>\n",
       "      <td>31.958</td>\n",
       "      <td>10404</td>\n",
       "      <td>1.236</td>\n",
       "      <td>11907.2</td>\n",
       "      <td>3.587</td>\n",
       "      <td>1</td>\n",
       "    </tr>\n",
       "    <tr>\n",
       "      <th>11</th>\n",
       "      <td>95</td>\n",
       "      <td>Honduras</td>\n",
       "      <td>2951.321</td>\n",
       "      <td>95.262</td>\n",
       "      <td>26.174</td>\n",
       "      <td>8096</td>\n",
       "      <td>2.016</td>\n",
       "      <td>4177.6</td>\n",
       "      <td>0.986</td>\n",
       "      <td>1</td>\n",
       "    </tr>\n",
       "    <tr>\n",
       "      <th>15</th>\n",
       "      <td>169</td>\n",
       "      <td>Paraguay</td>\n",
       "      <td>2896.321</td>\n",
       "      <td>101.062</td>\n",
       "      <td>33.811</td>\n",
       "      <td>6802</td>\n",
       "      <td>1.720</td>\n",
       "      <td>8227.2</td>\n",
       "      <td>12.510</td>\n",
       "      <td>1</td>\n",
       "    </tr>\n",
       "    <tr>\n",
       "      <th>8</th>\n",
       "      <td>60</td>\n",
       "      <td>El Salvador</td>\n",
       "      <td>2888.321</td>\n",
       "      <td>99.763</td>\n",
       "      <td>25.300</td>\n",
       "      <td>6340</td>\n",
       "      <td>0.683</td>\n",
       "      <td>6789.9</td>\n",
       "      <td>1.892</td>\n",
       "      <td>1</td>\n",
       "    </tr>\n",
       "    <tr>\n",
       "      <th>13</th>\n",
       "      <td>157</td>\n",
       "      <td>Nicaragua</td>\n",
       "      <td>2880.917</td>\n",
       "      <td>102.460</td>\n",
       "      <td>22.412</td>\n",
       "      <td>6080</td>\n",
       "      <td>1.469</td>\n",
       "      <td>4618.7</td>\n",
       "      <td>3.714</td>\n",
       "      <td>1</td>\n",
       "    </tr>\n",
       "    <tr>\n",
       "      <th>1</th>\n",
       "      <td>20</td>\n",
       "      <td>Botswana</td>\n",
       "      <td>2498.512</td>\n",
       "      <td>96.551</td>\n",
       "      <td>27.374</td>\n",
       "      <td>2021</td>\n",
       "      <td>0.848</td>\n",
       "      <td>15568.3</td>\n",
       "      <td>9.293</td>\n",
       "      <td>1</td>\n",
       "    </tr>\n",
       "  </tbody>\n",
       "</table>\n",
       "</div>"
      ],
      "text/plain": [
       "    country_code                                 country  \\\n",
       "12           101                               Indonésie   \n",
       "14           165                                Pakistan   \n",
       "17           171                             Philippines   \n",
       "21           237                                Viet Nam   \n",
       "19           216                               Thaïlande   \n",
       "2             28                                 Myanmar   \n",
       "5             44                                Colombie   \n",
       "22           276                                  Soudan   \n",
       "20           236  Venezuela (République bolivarienne du)   \n",
       "16           170                                   Pérou   \n",
       "9             81                                   Ghana   \n",
       "4             38                               Sri Lanka   \n",
       "7             58                                Équateur   \n",
       "0             19         Bolivie (État plurinational de)   \n",
       "6             56                  République dominicaine   \n",
       "11            95                                Honduras   \n",
       "15           169                                Paraguay   \n",
       "8             60                             El Salvador   \n",
       "13           157                               Nicaragua   \n",
       "1             20                                Botswana   \n",
       "\n",
       "    Disponibilité alimentaire (Kcal/personne/jour)  \\\n",
       "12                                        3123.024   \n",
       "14                                        2680.917   \n",
       "17                                        2810.917   \n",
       "21                                        3021.619   \n",
       "19                                        3062.619   \n",
       "2                                         2816.917   \n",
       "5                                         3181.726   \n",
       "22                                        2647.321   \n",
       "20                                        2910.619   \n",
       "16                                        2939.917   \n",
       "9                                         3152.809   \n",
       "4                                         2814.619   \n",
       "7                                         2658.321   \n",
       "0                                         2562.321   \n",
       "6                                         2853.917   \n",
       "11                                        2951.321   \n",
       "15                                        2896.321   \n",
       "8                                         2888.321   \n",
       "13                                        2880.917   \n",
       "1                                         2498.512   \n",
       "\n",
       "    Disponibilité de protéines en quantité (g/personne/jour)  \\\n",
       "12                                             90.243          \n",
       "14                                             83.739          \n",
       "17                                             84.295          \n",
       "21                                            107.215          \n",
       "19                                             87.674          \n",
       "2                                             111.872          \n",
       "5                                              99.669          \n",
       "22                                            106.049          \n",
       "20                                             96.126          \n",
       "16                                            101.744          \n",
       "9                                              88.955          \n",
       "4                                              90.132          \n",
       "7                                              89.343          \n",
       "0                                              96.442          \n",
       "6                                              82.545          \n",
       "11                                             95.262          \n",
       "15                                            101.062          \n",
       "8                                              99.763          \n",
       "13                                            102.460          \n",
       "1                                              96.551          \n",
       "\n",
       "    Proportion proteine animale (%)  populations  \\\n",
       "12                           19.636       249866   \n",
       "14                           32.565       182143   \n",
       "17                           29.480        98394   \n",
       "21                           28.961        91680   \n",
       "19                           28.366        67011   \n",
       "2                            30.150        53259   \n",
       "5                            33.591        48321   \n",
       "22                           30.842        37964   \n",
       "20                           39.667        30405   \n",
       "16                           26.577        30376   \n",
       "9                            19.358        25905   \n",
       "4                            20.041        21273   \n",
       "7                            40.854        15738   \n",
       "0                            30.858        10671   \n",
       "6                            31.958        10404   \n",
       "11                           26.174         8096   \n",
       "15                           33.811         6802   \n",
       "8                            25.300         6340   \n",
       "13                           22.412         6080   \n",
       "1                            27.374         2021   \n",
       "\n",
       "    Evolution de la population par rapport a l'an passée (en %)  \\\n",
       "12                                              1.216             \n",
       "14                                              1.665             \n",
       "17                                              1.744             \n",
       "21                                              0.974             \n",
       "19                                              0.338             \n",
       "2                                               0.875             \n",
       "5                                               1.293             \n",
       "22                                              2.067             \n",
       "20                                              1.502             \n",
       "16                                              1.294             \n",
       "9                                               2.125             \n",
       "4                                               0.829             \n",
       "7                                               1.588             \n",
       "0                                               1.667             \n",
       "6                                               1.236             \n",
       "11                                              2.016             \n",
       "15                                              1.720             \n",
       "8                                               0.683             \n",
       "13                                              1.469             \n",
       "1                                               0.848             \n",
       "\n",
       "    Pib par habitant  Variation du pib avec l'année precedente (en %)  \\\n",
       "12            9643.3                                            4.238   \n",
       "14            4464.1                                            2.212   \n",
       "17            6306.7                                            5.308   \n",
       "21            5024.4                                            4.217   \n",
       "19           14771.5                                            2.237   \n",
       "2             4457.9                                            7.453   \n",
       "5            12296.3                                            3.852   \n",
       "22            4177.3                                            1.957   \n",
       "20           17665.2                                           -0.077   \n",
       "16           11430.3                                            4.444   \n",
       "9             3807.3                                            4.815   \n",
       "4            10238.7                                            2.592   \n",
       "7            10665.5                                            3.326   \n",
       "0             6090.7                                            5.141   \n",
       "6            11907.2                                            3.587   \n",
       "11            4177.6                                            0.986   \n",
       "15            8227.2                                           12.510   \n",
       "8             6789.9                                            1.892   \n",
       "13            4618.7                                            3.714   \n",
       "1            15568.3                                            9.293   \n",
       "\n",
       "    Clusters  \n",
       "12         1  \n",
       "14         1  \n",
       "17         1  \n",
       "21         1  \n",
       "19         1  \n",
       "2          1  \n",
       "5          1  \n",
       "22         1  \n",
       "20         1  \n",
       "16         1  \n",
       "9          1  \n",
       "4          1  \n",
       "7          1  \n",
       "0          1  \n",
       "6          1  \n",
       "11         1  \n",
       "15         1  \n",
       "8          1  \n",
       "13         1  \n",
       "1          1  "
      ]
     },
     "execution_count": 21,
     "metadata": {},
     "output_type": "execute_result"
    }
   ],
   "source": [
    "\n",
    "df_retenu.sort_values(by = ['populations'], ascending=False).head(20)\n"
   ]
  },
  {
   "cell_type": "markdown",
   "metadata": {},
   "source": [
    "\n",
    "Lors d'un premiers tri nous avons retenu ces pays ci\n"
   ]
  },
  {
   "cell_type": "code",
   "execution_count": 22,
   "metadata": {},
   "outputs": [
    {
     "data": {
      "text/html": [
       "<div>\n",
       "<style scoped>\n",
       "    .dataframe tbody tr th:only-of-type {\n",
       "        vertical-align: middle;\n",
       "    }\n",
       "\n",
       "    .dataframe tbody tr th {\n",
       "        vertical-align: top;\n",
       "    }\n",
       "\n",
       "    .dataframe thead th {\n",
       "        text-align: right;\n",
       "    }\n",
       "</style>\n",
       "<table border=\"1\" class=\"dataframe\">\n",
       "  <thead>\n",
       "    <tr style=\"text-align: right;\">\n",
       "      <th></th>\n",
       "      <th>country_code</th>\n",
       "      <th>country</th>\n",
       "      <th>Disponibilité alimentaire (Kcal/personne/jour)</th>\n",
       "      <th>Disponibilité de protéines en quantité (g/personne/jour)</th>\n",
       "      <th>Proportion proteine animale (%)</th>\n",
       "      <th>populations</th>\n",
       "      <th>Evolution de la population par rapport a l'an passée (en %)</th>\n",
       "      <th>Pib par habitant</th>\n",
       "      <th>Variation du pib avec l'année precedente (en %)</th>\n",
       "      <th>Clusters</th>\n",
       "    </tr>\n",
       "  </thead>\n",
       "  <tbody>\n",
       "  </tbody>\n",
       "</table>\n",
       "</div>"
      ],
      "text/plain": [
       "Empty DataFrame\n",
       "Columns: [country_code, country, Disponibilité alimentaire (Kcal/personne/jour), Disponibilité de protéines en quantité (g/personne/jour), Proportion proteine animale (%), populations, Evolution de la population par rapport a l'an passée (en %), Pib par habitant, Variation du pib avec l'année precedente (en %), Clusters]\n",
       "Index: []"
      ]
     },
     "execution_count": 22,
     "metadata": {},
     "output_type": "execute_result"
    }
   ],
   "source": [
    "\n",
    "df_retenu.loc[df_retenu.country.isin([\"États-Unis d'Amérique\",\"France\",\"Fédération de Russie\",\"Canada\",\"Australie\"])]\n"
   ]
  },
  {
   "cell_type": "markdown",
   "metadata": {},
   "source": [
    "\n",
    "Nous avons donc selectionner ces 3 pays ci\n"
   ]
  },
  {
   "cell_type": "code",
   "execution_count": 23,
   "metadata": {},
   "outputs": [
    {
     "data": {
      "text/html": [
       "<div>\n",
       "<style scoped>\n",
       "    .dataframe tbody tr th:only-of-type {\n",
       "        vertical-align: middle;\n",
       "    }\n",
       "\n",
       "    .dataframe tbody tr th {\n",
       "        vertical-align: top;\n",
       "    }\n",
       "\n",
       "    .dataframe thead th {\n",
       "        text-align: right;\n",
       "    }\n",
       "</style>\n",
       "<table border=\"1\" class=\"dataframe\">\n",
       "  <thead>\n",
       "    <tr style=\"text-align: right;\">\n",
       "      <th></th>\n",
       "      <th>country_code</th>\n",
       "      <th>country</th>\n",
       "      <th>Disponibilité alimentaire (Kcal/personne/jour)</th>\n",
       "      <th>Disponibilité de protéines en quantité (g/personne/jour)</th>\n",
       "      <th>Proportion proteine animale (%)</th>\n",
       "      <th>populations</th>\n",
       "      <th>Evolution de la population par rapport a l'an passée (en %)</th>\n",
       "      <th>Pib par habitant</th>\n",
       "      <th>Variation du pib avec l'année precedente (en %)</th>\n",
       "      <th>Clusters</th>\n",
       "    </tr>\n",
       "  </thead>\n",
       "  <tbody>\n",
       "  </tbody>\n",
       "</table>\n",
       "</div>"
      ],
      "text/plain": [
       "Empty DataFrame\n",
       "Columns: [country_code, country, Disponibilité alimentaire (Kcal/personne/jour), Disponibilité de protéines en quantité (g/personne/jour), Proportion proteine animale (%), populations, Evolution de la population par rapport a l'an passée (en %), Pib par habitant, Variation du pib avec l'année precedente (en %), Clusters]\n",
       "Index: []"
      ]
     },
     "execution_count": 23,
     "metadata": {},
     "output_type": "execute_result"
    }
   ],
   "source": [
    "\n",
    "df_retenu.loc[df_retenu.country.isin([\"États-Unis d'Amérique\",\"France\",\"Fédération de Russie\"])]\n"
   ]
  },
  {
   "cell_type": "code",
   "execution_count": null,
   "metadata": {},
   "outputs": [],
   "source": []
  },
  {
   "cell_type": "markdown",
   "metadata": {},
   "source": [
    "\n",
    "### Tests statistique\n",
    "\n",
    "\n",
    "Parmis les quatres variable 'imposer' nous allons chercher une loi normale\n",
    "\n",
    "Nous allons regarder, les variables suivante:\n",
    "\n",
    "     - Diffrence de population\n",
    "\n",
    "     - Proportion de proteine d'origine animale\n",
    "\n",
    "     - Disponibilité alimentaire en kcal\n",
    "\n",
    "     - Disponibilité alimentaire en proteine.\n"
   ]
  },
  {
   "cell_type": "code",
   "execution_count": 24,
   "metadata": {},
   "outputs": [],
   "source": [
    "\n",
    "a1 = data_pca['Disponibilité alimentaire (Kcal/personne/jour)']\n",
    "b1 = data_pca['Disponibilité de protéines en quantité (g/personne/jour)']\n",
    "c1 = data_pca['Proportion proteine animale (%)']\n",
    "d1 = data_pca['Evolution de la population par rapport a l\\'an passée (en %)']\n"
   ]
  },
  {
   "cell_type": "markdown",
   "metadata": {},
   "source": [
    "\n",
    "Nous allons utiliser le test *normaltest* , nous prendrons ici un rique alpha a 1%\n",
    "\n",
    "Notre hypothese null est ici : La distribution de la variable suit une distribution normale\n"
   ]
  },
  {
   "cell_type": "code",
   "execution_count": 25,
   "metadata": {},
   "outputs": [
    {
     "name": "stdout",
     "output_type": "stream",
     "text": [
      "p = 2.21113e-06\n",
      "L'hypothese null peut etre rejeté\n"
     ]
    }
   ],
   "source": [
    "\n",
    "k2, p = st.normaltest(a1)\n",
    "alpha = 0.01\n",
    "print(\"p = {:g}\".format(p))\n",
    "if p < alpha:  # null hypothesis: x comes from a normal distribution\n",
    "     print(\"L'hypothese null peut etre rejeté\")\n",
    "else:\n",
    "     print(\"L'hypothese null ne peut pas etre rejeté\")\n"
   ]
  },
  {
   "cell_type": "markdown",
   "metadata": {},
   "source": [
    "\n",
    "Le risque alpha est plus important que la p_value donc notre hypothese null est rejeter\n"
   ]
  },
  {
   "cell_type": "code",
   "execution_count": 26,
   "metadata": {},
   "outputs": [
    {
     "name": "stdout",
     "output_type": "stream",
     "text": [
      "p = 0.551344\n",
      "L'hypothese null ne peut pas etre rejeté\n"
     ]
    }
   ],
   "source": [
    "\n",
    "k2, p = st.normaltest(b1)\n",
    "alpha = 0.01\n",
    "print(\"p = {:g}\".format(p))\n",
    "if p < alpha:  # null hypothesis: x comes from a normal distribution\n",
    "     print(\"L'hypothese null peut etre rejeté\")\n",
    "else:\n",
    "     print(\"L'hypothese null ne peut pas etre rejeté\")\n",
    "\n",
    "        "
   ]
  },
  {
   "cell_type": "markdown",
   "metadata": {},
   "source": [
    "\n",
    "Ici la p_value est plus haute que le risque, donc nous pouvons garder l'hypothese h0\n"
   ]
  },
  {
   "cell_type": "code",
   "execution_count": 27,
   "metadata": {},
   "outputs": [
    {
     "name": "stdout",
     "output_type": "stream",
     "text": [
      "p = 6.12001e-09\n",
      "L'hypothese null peut etre rejeté\n"
     ]
    }
   ],
   "source": [
    "\n",
    "k2, p = st.normaltest(c1)\n",
    "alpha = 0.01\n",
    "print(\"p = {:g}\".format(p))\n",
    "if p < alpha:  # null hypothesis: x comes from a normal distribution\n",
    "     print(\"L'hypothese null peut etre rejeté\")\n",
    "else:\n",
    "     print(\"L'hypothese null ne peut pas etre rejeté\")\n",
    "\n"
   ]
  },
  {
   "cell_type": "markdown",
   "metadata": {},
   "source": [
    "\n",
    "Le risque alpha est plus important que la p_value donc notre hypothese null est rejeter\n"
   ]
  },
  {
   "cell_type": "code",
   "execution_count": 28,
   "metadata": {},
   "outputs": [
    {
     "name": "stdout",
     "output_type": "stream",
     "text": [
      "p = 2.5918e-21\n",
      "L'hypothese null peut etre rejeté\n"
     ]
    }
   ],
   "source": [
    "\n",
    "k2, p = st.normaltest(d1)\n",
    "alpha = 0.01\n",
    "print(\"p = {:g}\".format(p))\n",
    "if p < alpha:  # null hypothesis: x comes from a normal distribution\n",
    "     print(\"L'hypothese null peut etre rejeté\")\n",
    "else:\n",
    "     print(\"L'hypothese null ne peut pas etre rejeté\")\n",
    "\n"
   ]
  },
  {
   "cell_type": "markdown",
   "metadata": {},
   "source": [
    "\n",
    "Le risque alpha est plus important que la p_value donc notre hypothese null est rejeter\n"
   ]
  },
  {
   "cell_type": "markdown",
   "metadata": {},
   "source": [
    "\n",
    "#### Test inter clusters\n",
    "\n",
    "Ici nous voulons faire un test de comparaison entre une variable de deux clusters.\n",
    "Nous allons donc faire une comparaison gaussienne\n",
    "\n",
    "\n",
    "h0 = les deux distribution independente on la meme valeur moyenne\n",
    "\n",
    "risque alpha  1%\n"
   ]
  },
  {
   "cell_type": "code",
   "execution_count": 29,
   "metadata": {},
   "outputs": [
    {
     "data": {
      "text/plain": [
       "Ttest_indResult(statistic=-9.455605936602888, pvalue=2.7392606527538708e-11)"
      ]
     },
     "execution_count": 29,
     "metadata": {},
     "output_type": "execute_result"
    }
   ],
   "source": [
    "\n",
    "st.ttest_ind(df_final[\"Disponibilité de protéines en quantité (g/personne/jour)\"][df_final['Clusters']==1],\n",
    "             df_final[\"Disponibilité de protéines en quantité (g/personne/jour)\"][df_final['Clusters']==3],\n",
    "             equal_var = False)\n"
   ]
  },
  {
   "cell_type": "markdown",
   "metadata": {},
   "source": [
    "\n",
    "p_value est inferieur aux riques, l'hypothese null h0 est rejeter\n"
   ]
  },
  {
   "cell_type": "markdown",
   "metadata": {},
   "source": [
    "\n",
    "Ici nous voulons faire un test de comparaison entre une variable de deux clusters.\n",
    "Nous allons donc faire une comparaison gaussienne\n",
    "\n",
    "h0 = les deux distribution non independente on la meme valeur moyenne\n"
   ]
  },
  {
   "cell_type": "code",
   "execution_count": 30,
   "metadata": {},
   "outputs": [
    {
     "data": {
      "text/plain": [
       "Ttest_indResult(statistic=-9.111480684321135, pvalue=5.441353662235324e-11)"
      ]
     },
     "execution_count": 30,
     "metadata": {},
     "output_type": "execute_result"
    }
   ],
   "source": [
    "\n",
    "st.ttest_ind(df_final[\"Disponibilité de protéines en quantité (g/personne/jour)\"][df_final['Clusters']==1],\n",
    "             df_final[\"Disponibilité de protéines en quantité (g/personne/jour)\"][df_final['Clusters']==3],\n",
    "             equal_var = True)\n"
   ]
  },
  {
   "cell_type": "markdown",
   "metadata": {},
   "source": [
    "p_value est inferieur aux riques, l'hypothese null h0 est rejeter"
   ]
  },
  {
   "cell_type": "code",
   "execution_count": null,
   "metadata": {},
   "outputs": [],
   "source": []
  }
 ],
 "metadata": {
  "kernelspec": {
   "display_name": "Python 3",
   "language": "python",
   "name": "python3"
  },
  "language_info": {
   "codemirror_mode": {
    "name": "ipython",
    "version": 3
   },
   "file_extension": ".py",
   "mimetype": "text/x-python",
   "name": "python",
   "nbconvert_exporter": "python",
   "pygments_lexer": "ipython3",
   "version": "3.7.6"
  }
 },
 "nbformat": 4,
 "nbformat_minor": 4
}
