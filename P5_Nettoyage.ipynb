{
 "cells": [
  {
   "cell_type": "markdown",
   "metadata": {},
   "source": [
    "# Projet 5: Etude de marché"
   ]
  },
  {
   "cell_type": "markdown",
   "metadata": {},
   "source": [
    "## Les données "
   ]
  },
  {
   "cell_type": "markdown",
   "metadata": {},
   "source": [
    "### Origine des données\n",
    "\n",
    "Pour cette étude nous avons utilisé des données issues du site de l'Organisation des Nations Unies pour l'alimentation et l'agriculture.\n",
    "\n",
    "Nous avons choisi de prendre plusieurs données sur les pays :\n",
    "\n",
    "- Disponibilité alimentaire (Kcal/personne/jour)\n",
    "- Disponibilité de protéines en quantité (g/personne/jour)\n",
    "- populations\n",
    "- Pib par habitant\n",
    "- Proportion proteine animale (%)\n",
    "- Evolution de la population par rapport a l'an passée (en %)\n",
    "- Variation du pib avec l'année precedente (en %)\n",
    "\n",
    "Nous avons choisi ces données pour avoir des informations sur les pays pour pouvoir déterminer les pays les plus adapter pour l'implantation de l'entreprise dans ces derniers.\n",
    "\n",
    "Les informations sont la plus récente disponible sur le site de la Fao au moment de la rédaction de ces lignes à savoir 2012 - 2013."
   ]
  },
  {
   "cell_type": "code",
   "execution_count": 1,
   "metadata": {},
   "outputs": [],
   "source": [
    "# Import des librairies\n",
    "import matplotlib.pyplot as plt\n",
    "import pandas as pd\n",
    "\n",
    "plt.style.use('seaborn-deep')\n",
    "%matplotlib inline"
   ]
  },
  {
   "cell_type": "markdown",
   "metadata": {},
   "source": [
    "## Sommaire\n",
    "\n",
    "- Nettoyage des données\n",
    "    - [Preparation](#Nettoyage-des-données)\n",
    "    - [Nettoyage](#Nettoyage)\n",
    "- [Le dataframe final](#Le-dataframe-final)\n",
    "- [Analyse](#Analyse)\n",
    "    - [Pca](#Acp)\n",
    "    - [Clustering](#Clustering)\n",
    "- [Etude des clusters](#Etude-des-clusters)\n",
    "- [Liste des pays retenus](#)\n",
    "\n",
    "\n"
   ]
  },
  {
   "cell_type": "markdown",
   "metadata": {},
   "source": [
    "### Nettoyage des données"
   ]
  },
  {
   "cell_type": "markdown",
   "metadata": {},
   "source": [
    "#### Préparation des dataframes"
   ]
  },
  {
   "cell_type": "code",
   "execution_count": 2,
   "metadata": {},
   "outputs": [],
   "source": [
    "# Import des données des bilans alimentaires\n",
    "set_nourritureTt = pd.read_csv(\"Data/set_nourritureTotale.csv\")\n",
    "set_nourritureVd = pd.read_csv(\"Data/set_nourritureViande.csv\")\n",
    "set_pop = pd.read_csv(\"Data/set_pop.csv\")\n",
    "set_pib = pd.read_csv(\"Data/set_pib.csv\")"
   ]
  },
  {
   "cell_type": "markdown",
   "metadata": {},
   "source": [
    "Nous mettons en chaque set de données sous la même architecture pour plus de simplicité."
   ]
  },
  {
   "cell_type": "code",
   "execution_count": 3,
   "metadata": {},
   "outputs": [],
   "source": [
    "temp = set_nourritureTt.copy()\n",
    "\n",
    "# On renomme les colonnes de temp\n",
    "temp.columns = [\"xx\",\"xx2\",\"country_code\",\"country\",'xx3','element'\n",
    "    ,'item_code','item','xx4',\"year\",\"unit\",\"value\",'xx5','xx6']\n",
    "\n",
    "# Transformation de temp en table pivot\n",
    "df_NourritureTotale = temp.pivot_table(\n",
    "    index=[\"country_code\",\"country\",\"item_code\",\"item\",\"year\"],\n",
    "    columns = [\"element\"], values=[\"value\"], aggfunc=sum)\n",
    "\n",
    "df_NourritureTotale = df_NourritureTotale.reset_index()\n",
    "\n",
    "df_NourritureTotale.columns = [\"country_code\",\n",
    "                \"country\",\n",
    "                \"item_code\",\n",
    "                \"item\",\n",
    "                \"year\",\n",
    "                 'Disponibilité alimentaire (Kcal/personne/jour)',\n",
    "                 'Disponibilité de protéines en quantité (g/personne/jour)',\n",
    "                 'Disponibilité intérieure',\n",
    "                 'Nourriture']\n"
   ]
  },
  {
   "cell_type": "code",
   "execution_count": 4,
   "metadata": {},
   "outputs": [],
   "source": [
    "temp = set_nourritureVd.copy()\n",
    "\n",
    "# On renomme les colonnes de temp\n",
    "temp.columns = [\"xx\",\"xx2\",\"country_code\",\"country\",'xx3','element'\n",
    "    ,'item_code','item','xx4',\"year\",\"unit\",\"value\",'xx5','xx6']\n",
    "\n",
    "# Transformation de temp en table pivot\n",
    "df_NourritureViande = temp.pivot_table(\n",
    "    index=[\"country_code\",\"country\",\"item_code\",\"item\",\"year\"],\n",
    "    columns = [\"element\"], values=[\"value\"], aggfunc=sum)\n",
    "\n",
    "df_NourritureViande = df_NourritureViande.reset_index()\n",
    "\n",
    "df_NourritureViande.columns = [\"country_code\",\n",
    "                \"country\",\n",
    "                \"item_code\",\n",
    "                \"item\",\n",
    "                \"year\",\n",
    "                 'Disponibilité alimentaire (Kcal/personne/jour)',\n",
    "                 'Disponibilité de protéines en quantité (g/personne/jour)',\n",
    "                 'Disponibilité intérieure',\n",
    "                 'Nourriture']\n"
   ]
  },
  {
   "cell_type": "code",
   "execution_count": 5,
   "metadata": {},
   "outputs": [],
   "source": [
    "temp = set_pop.copy()\n",
    "\n",
    "# On renomme les colonnes de temp\n",
    "temp.columns = [\"xx\",\"xx2\",\"country_code\",\"country\",'xx3','element'\n",
    "    ,'item_code','item','xx4',\"year\",\"unit\",\"value\",'xx5','xx6']\n",
    "\n",
    "# Transformation de temp en table pivot\n",
    "df_Population = temp.pivot_table(\n",
    "    index=[\"country_code\",\"country\",\"item_code\",\"item\",\"year\"],\n",
    "    columns = [\"element\"], values=[\"value\"], aggfunc=sum)\n",
    "\n",
    "df_Population = df_Population.reset_index()\n",
    "\n",
    "df_Population.columns = [\"country_code\",\n",
    "                \"country\",\n",
    "                \"item_code\",\n",
    "                \"item\",\n",
    "                \"year\",\n",
    "                 'population']\n"
   ]
  },
  {
   "cell_type": "code",
   "execution_count": 6,
   "metadata": {},
   "outputs": [],
   "source": [
    "temp = set_pib.copy()\n",
    "\n",
    "# On renomme les colonnes de temp\n",
    "temp.columns = [\"xx\",\"xx2\",\"country_code\",\"country\",'xx3','element'\n",
    "    ,'item_code','item','xx4',\"year\",\"unit\",\"value\",'xx5','xx6']\n",
    "\n",
    "# Transformation de temp en table pivot\n",
    "df_pib = temp.pivot_table(\n",
    "    index=[\"country_code\",\"country\",\"item_code\",\"item\",\"year\"],\n",
    "    columns = [\"element\"], values=[\"value\"], aggfunc=sum)\n",
    "\n",
    "df_pib = df_pib.reset_index()\n",
    "\n",
    "df_pib.columns = [\"country_code\",\n",
    "                \"country\",\n",
    "                \"item_code\",\n",
    "                \"item\",\n",
    "                \"year\",\n",
    "                 \"Pib par habitant\"]\n",
    "\n"
   ]
  },
  {
   "cell_type": "markdown",
   "metadata": {},
   "source": [
    "#### Nettoyage\n"
   ]
  },
  {
   "cell_type": "code",
   "execution_count": 7,
   "metadata": {},
   "outputs": [
    {
     "data": {
      "text/plain": [
       "country_code                                                   0\n",
       "country                                                        0\n",
       "item_code                                                      0\n",
       "item                                                           0\n",
       "year                                                           0\n",
       "Disponibilité alimentaire (Kcal/personne/jour)              2738\n",
       "Disponibilité de protéines en quantité (g/personne/jour)    8122\n",
       "Disponibilité intérieure                                     448\n",
       "Nourriture                                                  3190\n",
       "dtype: int64"
      ]
     },
     "execution_count": 7,
     "metadata": {},
     "output_type": "execute_result"
    }
   ],
   "source": [
    "df_NourritureTotale.isna().sum()"
   ]
  },
  {
   "cell_type": "markdown",
   "metadata": {},
   "source": [
    "Ici les variable avec des valeurs Nan sont toute des variable numerique. En partant de ce principe si il n'y a pas de valeur pour celle si les remplacer par zero reviendrai au même."
   ]
  },
  {
   "cell_type": "code",
   "execution_count": 8,
   "metadata": {},
   "outputs": [],
   "source": [
    "df_NourritureTotale['Disponibilité alimentaire (Kcal/personne/jour)'] = df_NourritureTotale['Disponibilité alimentaire (Kcal/personne/jour)'].fillna(df_NourritureTotale['Disponibilité alimentaire (Kcal/personne/jour)'].mean())\n",
    "df_NourritureTotale['Disponibilité de protéines en quantité (g/personne/jour)'] = df_NourritureTotale['Disponibilité de protéines en quantité (g/personne/jour)'].fillna(df_NourritureTotale['Disponibilité de protéines en quantité (g/personne/jour)'].mean())\n",
    "df_NourritureTotale['Disponibilité intérieure'] = df_NourritureTotale['Disponibilité intérieure'].fillna(df_NourritureTotale['Disponibilité intérieure'].mean())\n",
    "df_NourritureTotale['Nourriture'] = df_NourritureTotale['Nourriture'].fillna(df_NourritureTotale['Nourriture'].mean())\n"
   ]
  },
  {
   "cell_type": "code",
   "execution_count": 9,
   "metadata": {},
   "outputs": [
    {
     "data": {
      "text/plain": [
       "country_code                                                 0\n",
       "country                                                      0\n",
       "item_code                                                    0\n",
       "item                                                         0\n",
       "year                                                         0\n",
       "Disponibilité alimentaire (Kcal/personne/jour)               5\n",
       "Disponibilité de protéines en quantité (g/personne/jour)    34\n",
       "Disponibilité intérieure                                     0\n",
       "Nourriture                                                   5\n",
       "dtype: int64"
      ]
     },
     "execution_count": 9,
     "metadata": {},
     "output_type": "execute_result"
    }
   ],
   "source": [
    "df_NourritureViande.isna().sum()\n"
   ]
  },
  {
   "cell_type": "markdown",
   "metadata": {},
   "source": [
    "La même observation peut etre fait sur ce jeu de données."
   ]
  },
  {
   "cell_type": "code",
   "execution_count": 10,
   "metadata": {},
   "outputs": [],
   "source": [
    "df_NourritureViande['Disponibilité alimentaire (Kcal/personne/jour)'] = df_NourritureViande['Disponibilité alimentaire (Kcal/personne/jour)'].fillna(df_NourritureViande['Disponibilité alimentaire (Kcal/personne/jour)'].mean())\n",
    "df_NourritureViande['Disponibilité de protéines en quantité (g/personne/jour)'] = df_NourritureViande['Disponibilité de protéines en quantité (g/personne/jour)'].fillna(df_NourritureViande['Disponibilité de protéines en quantité (g/personne/jour)'].mean())\n",
    "df_NourritureViande['Nourriture'] = df_NourritureViande['Nourriture'].fillna(df_NourritureViande['Nourriture'].mean())"
   ]
  },
  {
   "cell_type": "code",
   "execution_count": 11,
   "metadata": {},
   "outputs": [
    {
     "data": {
      "text/plain": [
       "country_code    0\n",
       "country         0\n",
       "item_code       0\n",
       "item            0\n",
       "year            0\n",
       "population      0\n",
       "dtype: int64"
      ]
     },
     "execution_count": 11,
     "metadata": {},
     "output_type": "execute_result"
    }
   ],
   "source": [
    "df_Population.isna().sum()\n"
   ]
  },
  {
   "cell_type": "markdown",
   "metadata": {},
   "source": [
    "Nous avons donc nos 3 dataframe, nous allons regarder rapidement comment ils ce construisent."
   ]
  },
  {
   "cell_type": "code",
   "execution_count": 12,
   "metadata": {},
   "outputs": [
    {
     "name": "stdout",
     "output_type": "stream",
     "text": [
      "<class 'pandas.core.frame.DataFrame'>\n",
      "RangeIndex: 31404 entries, 0 to 31403\n",
      "Data columns (total 9 columns):\n",
      " #   Column                                                    Non-Null Count  Dtype  \n",
      "---  ------                                                    --------------  -----  \n",
      " 0   country_code                                              31404 non-null  int64  \n",
      " 1   country                                                   31404 non-null  object \n",
      " 2   item_code                                                 31404 non-null  int64  \n",
      " 3   item                                                      31404 non-null  object \n",
      " 4   year                                                      31404 non-null  int64  \n",
      " 5   Disponibilité alimentaire (Kcal/personne/jour)            31404 non-null  float64\n",
      " 6   Disponibilité de protéines en quantité (g/personne/jour)  31404 non-null  float64\n",
      " 7   Disponibilité intérieure                                  31404 non-null  float64\n",
      " 8   Nourriture                                                31404 non-null  float64\n",
      "dtypes: float64(4), int64(3), object(2)\n",
      "memory usage: 2.2+ MB\n"
     ]
    }
   ],
   "source": [
    "df_NourritureTotale.info()"
   ]
  },
  {
   "cell_type": "markdown",
   "metadata": {},
   "source": [
    "Cette sources contient les informations sur les disponibilités de chaque pays en nourriture"
   ]
  },
  {
   "cell_type": "code",
   "execution_count": 13,
   "metadata": {},
   "outputs": [
    {
     "data": {
      "text/plain": [
       "(31404, 9)"
      ]
     },
     "execution_count": 13,
     "metadata": {},
     "output_type": "execute_result"
    }
   ],
   "source": [
    "df_NourritureTotale.shape"
   ]
  },
  {
   "cell_type": "code",
   "execution_count": 14,
   "metadata": {},
   "outputs": [
    {
     "name": "stdout",
     "output_type": "stream",
     "text": [
      "<class 'pandas.core.frame.DataFrame'>\n",
      "RangeIndex: 3731 entries, 0 to 3730\n",
      "Data columns (total 9 columns):\n",
      " #   Column                                                    Non-Null Count  Dtype  \n",
      "---  ------                                                    --------------  -----  \n",
      " 0   country_code                                              3731 non-null   int64  \n",
      " 1   country                                                   3731 non-null   object \n",
      " 2   item_code                                                 3731 non-null   int64  \n",
      " 3   item                                                      3731 non-null   object \n",
      " 4   year                                                      3731 non-null   int64  \n",
      " 5   Disponibilité alimentaire (Kcal/personne/jour)            3731 non-null   float64\n",
      " 6   Disponibilité de protéines en quantité (g/personne/jour)  3731 non-null   float64\n",
      " 7   Disponibilité intérieure                                  3731 non-null   float64\n",
      " 8   Nourriture                                                3731 non-null   float64\n",
      "dtypes: float64(4), int64(3), object(2)\n",
      "memory usage: 262.5+ KB\n"
     ]
    }
   ],
   "source": [
    "df_NourritureViande.info()"
   ]
  },
  {
   "cell_type": "markdown",
   "metadata": {},
   "source": [
    "Ce dataframe est constituer comme le precedent sauf qu'il n'est composer que des données sur la viandes des pays."
   ]
  },
  {
   "cell_type": "code",
   "execution_count": 15,
   "metadata": {},
   "outputs": [
    {
     "data": {
      "text/plain": [
       "(3731, 9)"
      ]
     },
     "execution_count": 15,
     "metadata": {},
     "output_type": "execute_result"
    }
   ],
   "source": [
    "df_NourritureViande.shape"
   ]
  },
  {
   "cell_type": "code",
   "execution_count": 16,
   "metadata": {},
   "outputs": [
    {
     "name": "stdout",
     "output_type": "stream",
     "text": [
      "<class 'pandas.core.frame.DataFrame'>\n",
      "RangeIndex: 350 entries, 0 to 349\n",
      "Data columns (total 6 columns):\n",
      " #   Column        Non-Null Count  Dtype \n",
      "---  ------        --------------  ----- \n",
      " 0   country_code  350 non-null    int64 \n",
      " 1   country       350 non-null    object\n",
      " 2   item_code     350 non-null    int64 \n",
      " 3   item          350 non-null    object\n",
      " 4   year          350 non-null    int64 \n",
      " 5   population    350 non-null    int64 \n",
      "dtypes: int64(4), object(2)\n",
      "memory usage: 16.5+ KB\n"
     ]
    }
   ],
   "source": [
    "df_Population.info()"
   ]
  },
  {
   "cell_type": "markdown",
   "metadata": {},
   "source": [
    "Ici nous avons les informations des population de chaque pays."
   ]
  },
  {
   "cell_type": "code",
   "execution_count": 17,
   "metadata": {},
   "outputs": [
    {
     "data": {
      "text/plain": [
       "(350, 6)"
      ]
     },
     "execution_count": 17,
     "metadata": {},
     "output_type": "execute_result"
    }
   ],
   "source": [
    "df_Population.shape"
   ]
  },
  {
   "cell_type": "code",
   "execution_count": 18,
   "metadata": {},
   "outputs": [
    {
     "data": {
      "text/plain": [
       "country_code        0\n",
       "country             0\n",
       "item_code           0\n",
       "item                0\n",
       "year                0\n",
       "Pib par habitant    0\n",
       "dtype: int64"
      ]
     },
     "execution_count": 18,
     "metadata": {},
     "output_type": "execute_result"
    }
   ],
   "source": [
    "df_pib.isna().sum()"
   ]
  },
  {
   "cell_type": "code",
   "execution_count": 19,
   "metadata": {},
   "outputs": [
    {
     "data": {
      "text/plain": [
       "(376, 6)"
      ]
     },
     "execution_count": 19,
     "metadata": {},
     "output_type": "execute_result"
    }
   ],
   "source": [
    "df_pib.shape"
   ]
  },
  {
   "cell_type": "markdown",
   "metadata": {},
   "source": [
    "Nous pouvons remarquer que le dataframe pib est composer de plus de pays que le dataframe population, nous devrons faire attention a cela"
   ]
  },
  {
   "cell_type": "markdown",
   "metadata": {},
   "source": [
    "#### Le dataframe final\n",
    "\n",
    "Dans ce dataframe nous regrouperont les informations pertinante determiner au début."
   ]
  },
  {
   "cell_type": "code",
   "execution_count": 20,
   "metadata": {},
   "outputs": [],
   "source": [
    "df_final = pd.DataFrame()"
   ]
  },
  {
   "cell_type": "markdown",
   "metadata": {},
   "source": [
    "##### Population, total et variation"
   ]
  },
  {
   "cell_type": "markdown",
   "metadata": {},
   "source": [
    "Nous nous interessons au disponibiliter generale du pays, nous regroupons donc pour chaque pays tout ce qu'il possede."
   ]
  },
  {
   "cell_type": "code",
   "execution_count": 21,
   "metadata": {},
   "outputs": [],
   "source": [
    "df_Totale = pd.pivot_table(df_NourritureTotale, index=['country_code','country','year'], aggfunc=sum)\n",
    "df_Totale = df_Totale.reset_index()\n",
    "df_Totale = df_Totale.drop(columns='item_code')\n",
    "\n",
    "df_Totale2012 = pd.DataFrame(df_Totale[df_Totale['year']==2012])\n",
    "df_Totale2012 = df_Totale2012.reset_index()\n",
    "df_Totale2012 = df_Totale2012.drop(columns=['index'])\n",
    "\n",
    "df_Totale2013 = pd.DataFrame(df_Totale[df_Totale['year']==2013])\n",
    "df_Totale2013 = df_Totale2013.reset_index()\n",
    "df_Totale2013 = df_Totale2013.drop(columns=['index'])\n",
    "\n",
    "df_final = df_Totale2013.copy()"
   ]
  },
  {
   "cell_type": "markdown",
   "metadata": {},
   "source": [
    "##### Viande, proportion\n",
    "\n",
    "Nous ne voulons encore que les informations generale du pays."
   ]
  },
  {
   "cell_type": "code",
   "execution_count": 22,
   "metadata": {},
   "outputs": [],
   "source": [
    "df_TotaleViande = pd.pivot_table(df_NourritureViande, index=['country_code','country','year'], aggfunc=sum)\n",
    "df_TotaleViande = df_TotaleViande.reset_index()\n",
    "df_TotaleViande = df_TotaleViande.drop(columns='item_code')"
   ]
  },
  {
   "cell_type": "code",
   "execution_count": 23,
   "metadata": {},
   "outputs": [],
   "source": [
    "d = df_TotaleViande['Disponibilité de protéines en quantité (g/personne/jour)']\n",
    "e = df_final['Disponibilité de protéines en quantité (g/personne/jour)']\n",
    "f = ((d * 100) / (e)).round(3)\n"
   ]
  },
  {
   "cell_type": "code",
   "execution_count": 24,
   "metadata": {},
   "outputs": [],
   "source": [
    "df_final['Proportion proteine animale (%)'] = f"
   ]
  },
  {
   "cell_type": "markdown",
   "metadata": {},
   "source": [
    "#### Population, totale et variation\n",
    "\n",
    "Nous gardons la populations la plus recente, a savoir 2013, et nous regardons les variations avec 2012"
   ]
  },
  {
   "cell_type": "code",
   "execution_count": 25,
   "metadata": {},
   "outputs": [],
   "source": [
    "df_pop2012 = pd.DataFrame(df_Population[df_Population['year']==2012])\n",
    "df_pop2013 = pd.DataFrame(df_Population[df_Population['year']==2013])\n",
    "df_pop2012 = df_pop2012.reset_index()\n",
    "df_pop2013 = df_pop2013.reset_index()\n",
    "df_pop2012 = df_pop2012.drop(columns=['index','item_code','item'])\n",
    "df_pop2013 = df_pop2013.drop(columns=['index','item_code','item'])\n"
   ]
  },
  {
   "cell_type": "code",
   "execution_count": 26,
   "metadata": {},
   "outputs": [],
   "source": [
    "#Calcule de l'évolution de la population entre 2012 et 2013 en pourcentage\n",
    "a = df_pop2013['population']\n",
    "b = df_pop2012['population']\n",
    "\n",
    "c = (( (a*100) / (b) ) - 100).round(3)"
   ]
  },
  {
   "cell_type": "code",
   "execution_count": 27,
   "metadata": {},
   "outputs": [],
   "source": [
    "df_final['populations'] = a\n",
    "df_final[\"Evolution de la population par rapport a l'an passée (en %)\"] = c"
   ]
  },
  {
   "cell_type": "markdown",
   "metadata": {},
   "source": [
    "#### Pib\n",
    "\n",
    "Ici nous allons crée un dataframe intermediaire, comme vue plus haut il n'y a pas le meme nombre de pays que dans les autres sources de données."
   ]
  },
  {
   "cell_type": "code",
   "execution_count": 28,
   "metadata": {},
   "outputs": [],
   "source": [
    "df_pib2012 = pd.DataFrame(df_pib[df_pib['year']==2012])\n",
    "df_pib2013 = pd.DataFrame(df_pib[df_pib['year']==2013])\n",
    "df_pib2012 = df_pib2012.reset_index()\n",
    "df_pib2013 = df_pib2013.reset_index()\n",
    "df_pib2012 = df_pib2012.drop(columns=['index','item_code','item'])\n",
    "df_pib2013 = df_pib2013.drop(columns=['index','item_code','item'])\n"
   ]
  },
  {
   "cell_type": "markdown",
   "metadata": {},
   "source": [
    "Liste des pays non present dans notre dataframe principal"
   ]
  },
  {
   "cell_type": "code",
   "execution_count": 29,
   "metadata": {},
   "outputs": [
    {
     "data": {
      "text/html": [
       "<div>\n",
       "<style scoped>\n",
       "    .dataframe tbody tr th:only-of-type {\n",
       "        vertical-align: middle;\n",
       "    }\n",
       "\n",
       "    .dataframe tbody tr th {\n",
       "        vertical-align: top;\n",
       "    }\n",
       "\n",
       "    .dataframe thead th {\n",
       "        text-align: right;\n",
       "    }\n",
       "</style>\n",
       "<table border=\"1\" class=\"dataframe\">\n",
       "  <thead>\n",
       "    <tr style=\"text-align: right;\">\n",
       "      <th></th>\n",
       "      <th>country_code</th>\n",
       "      <th>country</th>\n",
       "      <th>year</th>\n",
       "      <th>Pib par habitant</th>\n",
       "    </tr>\n",
       "  </thead>\n",
       "  <tbody>\n",
       "    <tr>\n",
       "      <th>10</th>\n",
       "      <td>13</td>\n",
       "      <td>Bahreïn</td>\n",
       "      <td>2013</td>\n",
       "      <td>42680.2</td>\n",
       "    </tr>\n",
       "    <tr>\n",
       "      <th>14</th>\n",
       "      <td>18</td>\n",
       "      <td>Bhoutan</td>\n",
       "      <td>2013</td>\n",
       "      <td>7070.8</td>\n",
       "    </tr>\n",
       "    <tr>\n",
       "      <th>23</th>\n",
       "      <td>29</td>\n",
       "      <td>Burundi</td>\n",
       "      <td>2013</td>\n",
       "      <td>790.7</td>\n",
       "    </tr>\n",
       "    <tr>\n",
       "      <th>33</th>\n",
       "      <td>45</td>\n",
       "      <td>Comores</td>\n",
       "      <td>2013</td>\n",
       "      <td>1437.0</td>\n",
       "    </tr>\n",
       "    <tr>\n",
       "      <th>46</th>\n",
       "      <td>61</td>\n",
       "      <td>Guinée équatoriale</td>\n",
       "      <td>2013</td>\n",
       "      <td>32736.1</td>\n",
       "    </tr>\n",
       "    <tr>\n",
       "      <th>91</th>\n",
       "      <td>124</td>\n",
       "      <td>Libye</td>\n",
       "      <td>2013</td>\n",
       "      <td>21570.3</td>\n",
       "    </tr>\n",
       "    <tr>\n",
       "      <th>93</th>\n",
       "      <td>127</td>\n",
       "      <td>Îles Marshall</td>\n",
       "      <td>2013</td>\n",
       "      <td>3721.0</td>\n",
       "    </tr>\n",
       "    <tr>\n",
       "      <th>107</th>\n",
       "      <td>145</td>\n",
       "      <td>Micronésie (États fédérés de)</td>\n",
       "      <td>2013</td>\n",
       "      <td>3208.7</td>\n",
       "    </tr>\n",
       "    <tr>\n",
       "      <th>109</th>\n",
       "      <td>148</td>\n",
       "      <td>Nauru</td>\n",
       "      <td>2013</td>\n",
       "      <td>10078.4</td>\n",
       "    </tr>\n",
       "    <tr>\n",
       "      <th>122</th>\n",
       "      <td>168</td>\n",
       "      <td>Papouasie-Nouvelle-Guinée</td>\n",
       "      <td>2013</td>\n",
       "      <td>3282.5</td>\n",
       "    </tr>\n",
       "    <tr>\n",
       "      <th>130</th>\n",
       "      <td>177</td>\n",
       "      <td>Porto Rico</td>\n",
       "      <td>2013</td>\n",
       "      <td>34913.6</td>\n",
       "    </tr>\n",
       "    <tr>\n",
       "      <th>131</th>\n",
       "      <td>179</td>\n",
       "      <td>Qatar</td>\n",
       "      <td>2013</td>\n",
       "      <td>122637.0</td>\n",
       "    </tr>\n",
       "    <tr>\n",
       "      <th>132</th>\n",
       "      <td>180</td>\n",
       "      <td>Palaos</td>\n",
       "      <td>2013</td>\n",
       "      <td>12621.0</td>\n",
       "    </tr>\n",
       "    <tr>\n",
       "      <th>143</th>\n",
       "      <td>196</td>\n",
       "      <td>Seychelles</td>\n",
       "      <td>2013</td>\n",
       "      <td>23540.4</td>\n",
       "    </tr>\n",
       "    <tr>\n",
       "      <th>147</th>\n",
       "      <td>200</td>\n",
       "      <td>Singapour</td>\n",
       "      <td>2013</td>\n",
       "      <td>78896.6</td>\n",
       "    </tr>\n",
       "    <tr>\n",
       "      <th>159</th>\n",
       "      <td>219</td>\n",
       "      <td>Tonga</td>\n",
       "      <td>2013</td>\n",
       "      <td>4950.7</td>\n",
       "    </tr>\n",
       "    <tr>\n",
       "      <th>166</th>\n",
       "      <td>227</td>\n",
       "      <td>Tuvalu</td>\n",
       "      <td>2013</td>\n",
       "      <td>3143.1</td>\n",
       "    </tr>\n",
       "    <tr>\n",
       "      <th>178</th>\n",
       "      <td>250</td>\n",
       "      <td>République démocratique du Congo</td>\n",
       "      <td>2013</td>\n",
       "      <td>741.6</td>\n",
       "    </tr>\n",
       "    <tr>\n",
       "      <th>185</th>\n",
       "      <td>277</td>\n",
       "      <td>Soudan du Sud</td>\n",
       "      <td>2013</td>\n",
       "      <td>1940.4</td>\n",
       "    </tr>\n",
       "    <tr>\n",
       "      <th>186</th>\n",
       "      <td>299</td>\n",
       "      <td>Territoire palestinien occupé</td>\n",
       "      <td>2013</td>\n",
       "      <td>4498.3</td>\n",
       "    </tr>\n",
       "  </tbody>\n",
       "</table>\n",
       "</div>"
      ],
      "text/plain": [
       "     country_code                           country  year  Pib par habitant\n",
       "10             13                           Bahreïn  2013           42680.2\n",
       "14             18                           Bhoutan  2013            7070.8\n",
       "23             29                           Burundi  2013             790.7\n",
       "33             45                           Comores  2013            1437.0\n",
       "46             61                Guinée équatoriale  2013           32736.1\n",
       "91            124                             Libye  2013           21570.3\n",
       "93            127                     Îles Marshall  2013            3721.0\n",
       "107           145     Micronésie (États fédérés de)  2013            3208.7\n",
       "109           148                             Nauru  2013           10078.4\n",
       "122           168         Papouasie-Nouvelle-Guinée  2013            3282.5\n",
       "130           177                        Porto Rico  2013           34913.6\n",
       "131           179                             Qatar  2013          122637.0\n",
       "132           180                            Palaos  2013           12621.0\n",
       "143           196                        Seychelles  2013           23540.4\n",
       "147           200                         Singapour  2013           78896.6\n",
       "159           219                             Tonga  2013            4950.7\n",
       "166           227                            Tuvalu  2013            3143.1\n",
       "178           250  République démocratique du Congo  2013             741.6\n",
       "185           277                     Soudan du Sud  2013            1940.4\n",
       "186           299     Territoire palestinien occupé  2013            4498.3"
      ]
     },
     "execution_count": 29,
     "metadata": {},
     "output_type": "execute_result"
    }
   ],
   "source": [
    "df_pib2013[~df_pib2013['country'].isin(df_final['country'])]"
   ]
  },
  {
   "cell_type": "code",
   "execution_count": 30,
   "metadata": {},
   "outputs": [],
   "source": [
    "#Calcule de l'évolution du pib par habitant entre 2012 et 2013 en pourcentage\n",
    "a = df_pib2013['Pib par habitant']\n",
    "b = df_pib2012['Pib par habitant']\n",
    "\n",
    "c = (( (a*100) / (b) ) - 100).round(3)"
   ]
  },
  {
   "cell_type": "code",
   "execution_count": 31,
   "metadata": {},
   "outputs": [],
   "source": [
    "#Nous ajoutons une colone variation de pib\n",
    "df_pib2013[\"Variation du pib avec l'année precedente (en %)\"] = c"
   ]
  },
  {
   "cell_type": "markdown",
   "metadata": {},
   "source": [
    "Pour ajouter ces variable à notre dataframe principale nous allons utiliser une unions sur df_final, comme ca nous ne garderons de df_pib que les pays present dans df_final"
   ]
  },
  {
   "cell_type": "code",
   "execution_count": 32,
   "metadata": {},
   "outputs": [],
   "source": [
    "df_final = df_final.merge(df_pib2013, 'left')\n",
    "df_final = df_final.drop(columns='year')\n"
   ]
  },
  {
   "cell_type": "markdown",
   "metadata": {},
   "source": [
    "Nous avons donc notre dataframe final."
   ]
  },
  {
   "cell_type": "code",
   "execution_count": 33,
   "metadata": {},
   "outputs": [
    {
     "data": {
      "text/html": [
       "<div>\n",
       "<style scoped>\n",
       "    .dataframe tbody tr th:only-of-type {\n",
       "        vertical-align: middle;\n",
       "    }\n",
       "\n",
       "    .dataframe tbody tr th {\n",
       "        vertical-align: top;\n",
       "    }\n",
       "\n",
       "    .dataframe thead th {\n",
       "        text-align: right;\n",
       "    }\n",
       "</style>\n",
       "<table border=\"1\" class=\"dataframe\">\n",
       "  <thead>\n",
       "    <tr style=\"text-align: right;\">\n",
       "      <th></th>\n",
       "      <th>country_code</th>\n",
       "      <th>country</th>\n",
       "      <th>Disponibilité alimentaire (Kcal/personne/jour)</th>\n",
       "      <th>Disponibilité de protéines en quantité (g/personne/jour)</th>\n",
       "      <th>Disponibilité intérieure</th>\n",
       "      <th>Nourriture</th>\n",
       "      <th>Proportion proteine animale (%)</th>\n",
       "      <th>populations</th>\n",
       "      <th>Evolution de la population par rapport a l'an passée (en %)</th>\n",
       "      <th>Pib par habitant</th>\n",
       "      <th>Variation du pib avec l'année precedente (en %)</th>\n",
       "    </tr>\n",
       "  </thead>\n",
       "  <tbody>\n",
       "    <tr>\n",
       "      <th>0</th>\n",
       "      <td>1</td>\n",
       "      <td>Arménie</td>\n",
       "      <td>3305.726017</td>\n",
       "      <td>122.980308</td>\n",
       "      <td>5148.952998</td>\n",
       "      <td>8119.525271</td>\n",
       "      <td>35.160</td>\n",
       "      <td>2977</td>\n",
       "      <td>0.269</td>\n",
       "      <td>7727.9</td>\n",
       "      <td>2.886</td>\n",
       "    </tr>\n",
       "    <tr>\n",
       "      <th>1</th>\n",
       "      <td>2</td>\n",
       "      <td>Afghanistan</td>\n",
       "      <td>2260.511826</td>\n",
       "      <td>80.206872</td>\n",
       "      <td>14275.952998</td>\n",
       "      <td>13330.262636</td>\n",
       "      <td>15.223</td>\n",
       "      <td>30552</td>\n",
       "      <td>2.438</td>\n",
       "      <td>1848.7</td>\n",
       "      <td>0.511</td>\n",
       "    </tr>\n",
       "    <tr>\n",
       "      <th>2</th>\n",
       "      <td>3</td>\n",
       "      <td>Albanie</td>\n",
       "      <td>3639.130747</td>\n",
       "      <td>145.509579</td>\n",
       "      <td>5518.952998</td>\n",
       "      <td>9531.612816</td>\n",
       "      <td>40.829</td>\n",
       "      <td>3173</td>\n",
       "      <td>0.348</td>\n",
       "      <td>10492.8</td>\n",
       "      <td>1.186</td>\n",
       "    </tr>\n",
       "    <tr>\n",
       "      <th>3</th>\n",
       "      <td>4</td>\n",
       "      <td>Algérie</td>\n",
       "      <td>3605.321287</td>\n",
       "      <td>122.401767</td>\n",
       "      <td>43390.952998</td>\n",
       "      <td>36486.981499</td>\n",
       "      <td>20.408</td>\n",
       "      <td>39208</td>\n",
       "      <td>1.887</td>\n",
       "      <td>13253.6</td>\n",
       "      <td>0.696</td>\n",
       "    </tr>\n",
       "    <tr>\n",
       "      <th>4</th>\n",
       "      <td>7</td>\n",
       "      <td>Angola</td>\n",
       "      <td>2647.511826</td>\n",
       "      <td>84.093955</td>\n",
       "      <td>32789.952998</td>\n",
       "      <td>17654.262636</td>\n",
       "      <td>21.880</td>\n",
       "      <td>21472</td>\n",
       "      <td>3.127</td>\n",
       "      <td>6188.0</td>\n",
       "      <td>3.135</td>\n",
       "    </tr>\n",
       "  </tbody>\n",
       "</table>\n",
       "</div>"
      ],
      "text/plain": [
       "   country_code      country  Disponibilité alimentaire (Kcal/personne/jour)  \\\n",
       "0             1      Arménie                                     3305.726017   \n",
       "1             2  Afghanistan                                     2260.511826   \n",
       "2             3      Albanie                                     3639.130747   \n",
       "3             4      Algérie                                     3605.321287   \n",
       "4             7       Angola                                     2647.511826   \n",
       "\n",
       "   Disponibilité de protéines en quantité (g/personne/jour)  \\\n",
       "0                                         122.980308          \n",
       "1                                          80.206872          \n",
       "2                                         145.509579          \n",
       "3                                         122.401767          \n",
       "4                                          84.093955          \n",
       "\n",
       "   Disponibilité intérieure    Nourriture  Proportion proteine animale (%)  \\\n",
       "0               5148.952998   8119.525271                           35.160   \n",
       "1              14275.952998  13330.262636                           15.223   \n",
       "2               5518.952998   9531.612816                           40.829   \n",
       "3              43390.952998  36486.981499                           20.408   \n",
       "4              32789.952998  17654.262636                           21.880   \n",
       "\n",
       "   populations  Evolution de la population par rapport a l'an passée (en %)  \\\n",
       "0         2977                                              0.269             \n",
       "1        30552                                              2.438             \n",
       "2         3173                                              0.348             \n",
       "3        39208                                              1.887             \n",
       "4        21472                                              3.127             \n",
       "\n",
       "   Pib par habitant  Variation du pib avec l'année precedente (en %)  \n",
       "0            7727.9                                            2.886  \n",
       "1            1848.7                                            0.511  \n",
       "2           10492.8                                            1.186  \n",
       "3           13253.6                                            0.696  \n",
       "4            6188.0                                            3.135  "
      ]
     },
     "execution_count": 33,
     "metadata": {},
     "output_type": "execute_result"
    }
   ],
   "source": [
    "df_final.head()"
   ]
  },
  {
   "cell_type": "code",
   "execution_count": 34,
   "metadata": {
    "scrolled": true
   },
   "outputs": [
    {
     "data": {
      "text/plain": [
       "country_code                                                   0\n",
       "country                                                        0\n",
       "Disponibilité alimentaire (Kcal/personne/jour)                 0\n",
       "Disponibilité de protéines en quantité (g/personne/jour)       0\n",
       "Disponibilité intérieure                                       0\n",
       "Nourriture                                                     0\n",
       "Proportion proteine animale (%)                                0\n",
       "populations                                                    0\n",
       "Evolution de la population par rapport a l'an passée (en %)    0\n",
       "Pib par habitant                                               7\n",
       "Variation du pib avec l'année precedente (en %)                7\n",
       "dtype: int64"
      ]
     },
     "execution_count": 34,
     "metadata": {},
     "output_type": "execute_result"
    }
   ],
   "source": [
    "df_final.isna().sum()"
   ]
  },
  {
   "cell_type": "code",
   "execution_count": 35,
   "metadata": {},
   "outputs": [],
   "source": [
    "df_final['Pib par habitant'] = df_final['Pib par habitant'].fillna(df_final['Pib par habitant'].mean())\n",
    "df_final[\"Variation du pib avec l'année precedente (en %)\"] = df_final[\"Variation du pib avec l'année precedente (en %)\"].fillna(df_final[\"Variation du pib avec l'année precedente (en %)\"].mean())"
   ]
  },
  {
   "cell_type": "markdown",
   "metadata": {},
   "source": [
    "Lorsque nous avons regardez notre dataframe nous avons remarquer qu'il y avait \"plusieurs\" Chine "
   ]
  },
  {
   "cell_type": "code",
   "execution_count": 36,
   "metadata": {},
   "outputs": [
    {
     "data": {
      "text/plain": [
       "174                        Chine\n",
       "63      Chine - RAS de Hong-Kong\n",
       "91          Chine - RAS de Macao\n",
       "147    Chine, Taiwan Province de\n",
       "28           Chine, continentale\n",
       "Name: country, dtype: object"
      ]
     },
     "execution_count": 36,
     "metadata": {},
     "output_type": "execute_result"
    }
   ],
   "source": [
    "df_final['country'].sort_values()[33:38]"
   ]
  },
  {
   "cell_type": "markdown",
   "metadata": {},
   "source": [
    "Après quelques recherches nous avons trouvé que la chine et le regroupement des 4 autres nations citent ci-dessus, en bref si nous gardons les 5 nations précédentes nous aurons la chine qui comptera en deux fois car \n",
    "\n",
    "Chine = ( Chine - RAS de Hong-Kong + Chine - RAS de Macao + Chine, Taiwan Province de + Chine, continentale)\n",
    "\n",
    "Comme nous souhaitons avoir des données precise nous retirerons la Chine."
   ]
  },
  {
   "cell_type": "code",
   "execution_count": 37,
   "metadata": {},
   "outputs": [],
   "source": [
    "df_final = df_final.drop(index=174)\n",
    "\n",
    "df_final = df_final.reset_index()\n",
    "df_final = df_final.drop(columns=\"index\")"
   ]
  },
  {
   "cell_type": "code",
   "execution_count": 38,
   "metadata": {},
   "outputs": [
    {
     "data": {
      "text/plain": [
       "Index(['country_code', 'country',\n",
       "       'Disponibilité alimentaire (Kcal/personne/jour)',\n",
       "       'Disponibilité de protéines en quantité (g/personne/jour)',\n",
       "       'Disponibilité intérieure', 'Nourriture',\n",
       "       'Proportion proteine animale (%)', 'populations',\n",
       "       'Evolution de la population par rapport a l'an passée (en %)',\n",
       "       'Pib par habitant', 'Variation du pib avec l'année precedente (en %)'],\n",
       "      dtype='object')"
      ]
     },
     "execution_count": 38,
     "metadata": {},
     "output_type": "execute_result"
    }
   ],
   "source": [
    "df_final.columns\n"
   ]
  },
  {
   "cell_type": "code",
   "execution_count": 39,
   "metadata": {},
   "outputs": [],
   "source": [
    "df_final = df_final.drop(columns=['Nourriture','Disponibilité intérieure'])"
   ]
  },
  {
   "cell_type": "code",
   "execution_count": 40,
   "metadata": {},
   "outputs": [
    {
     "data": {
      "text/plain": [
       "country_code                                                   0\n",
       "country                                                        0\n",
       "Disponibilité alimentaire (Kcal/personne/jour)                 0\n",
       "Disponibilité de protéines en quantité (g/personne/jour)       0\n",
       "Proportion proteine animale (%)                                0\n",
       "populations                                                    0\n",
       "Evolution de la population par rapport a l'an passée (en %)    0\n",
       "Pib par habitant                                               0\n",
       "Variation du pib avec l'année precedente (en %)                0\n",
       "dtype: int64"
      ]
     },
     "execution_count": 40,
     "metadata": {},
     "output_type": "execute_result"
    }
   ],
   "source": [
    "df_final.isna().sum()"
   ]
  },
  {
   "cell_type": "markdown",
   "metadata": {},
   "source": [
    "Il n'y a plus de valuer nulle, nous pouvons donc exporter cette sources, puis nous lancerons l'anayse\n"
   ]
  },
  {
   "cell_type": "code",
   "execution_count": 41,
   "metadata": {},
   "outputs": [],
   "source": [
    "df_final.to_csv('Data/set_etudeFinal.csv',index=False)"
   ]
  },
  {
   "cell_type": "code",
   "execution_count": null,
   "metadata": {},
   "outputs": [],
   "source": []
  }
 ],
 "metadata": {
  "kernelspec": {
   "display_name": "Python 3",
   "language": "python",
   "name": "python3"
  },
  "language_info": {
   "codemirror_mode": {
    "name": "ipython",
    "version": 3
   },
   "file_extension": ".py",
   "mimetype": "text/x-python",
   "name": "python",
   "nbconvert_exporter": "python",
   "pygments_lexer": "ipython3",
   "version": "3.7.6"
  }
 },
 "nbformat": 4,
 "nbformat_minor": 4
}
